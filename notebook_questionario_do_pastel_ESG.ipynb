{
    "metadata": {
        "kernelspec": {
            "name": "SQL",
            "display_name": "SQL",
            "language": "sql"
        },
        "language_info": {
            "name": "sql",
            "version": ""
        }
    },
    "nbformat_minor": 2,
    "nbformat": 4,
    "cells": [
        {
            "cell_type": "markdown",
            "source": [
                "\"Homens membros por escolaridade\" --\\> 2021 --\\> Considerando Todos que trabalharam na RIP no período de 2021"
            ],
            "metadata": {
                "azdata_cell_guid": "b2b7ead1-5718-4a48-9655-2aab64485ed7"
            },
            "attachments": {}
        },
        {
            "cell_type": "code",
            "source": [
                "USE bi_rip_refinedZone\r\n",
                "GO\r\n",
                "\r\n",
                "SELECT\r\n",
                "    ds_escolaridade_funcionarios,\r\n",
                "    tp_sexo_funcionario,\r\n",
                "    COUNT(1) AS contagem\r\n",
                "FROM dpp.vw_dim_funcionarios\r\n",
                "WHERE \r\n",
                "    tp_sexo_funcionario = 'Masculino' AND \r\n",
                "    tp_situacao_folha <> 'Transferido' AND\r\n",
                "    (\r\n",
                "        dt_demissao_funcionario > DATEFROMPARTS(2020, 12, 31) AND\r\n",
                "        dt_demissao_funcionario < DATEFROMPARTS(2022, 01, 01)\r\n",
                "        OR dt_demissao_funcionario IS NULL\r\n",
                "    )  AND\r\n",
                "    dt_admissao_funcionarios < DATEFROMPARTS(2022, 01, 01)\r\n",
                "    \r\n",
                "GROUP BY ds_escolaridade_funcionarios, tp_sexo_funcionario\r\n",
                "ORDER BY COUNT(1) DESC;"
            ],
            "metadata": {
                "azdata_cell_guid": "eb82656d-b639-4f44-8cd7-f41e553e863a",
                "language": "sql",
                "tags": []
            },
            "outputs": [
                {
                    "output_type": "display_data",
                    "data": {
                        "text/html": "Commands completed successfully."
                    },
                    "metadata": {}
                },
                {
                    "output_type": "display_data",
                    "data": {
                        "text/html": "(9 rows affected)"
                    },
                    "metadata": {}
                },
                {
                    "output_type": "display_data",
                    "data": {
                        "text/html": "Total execution time: 00:00:00.054"
                    },
                    "metadata": {}
                },
                {
                    "output_type": "execute_result",
                    "execution_count": 24,
                    "data": {
                        "application/vnd.dataresource+json": {
                            "schema": {
                                "fields": [
                                    {
                                        "name": "ds_escolaridade_funcionarios"
                                    },
                                    {
                                        "name": "tp_sexo_funcionario"
                                    },
                                    {
                                        "name": "contagem"
                                    }
                                ]
                            },
                            "data": [
                                {
                                    "ds_escolaridade_funcionarios": "SEGUNDO GRAU (COLEGIAL) COMPLETO",
                                    "tp_sexo_funcionario": "Masculino",
                                    "contagem": "7935"
                                },
                                {
                                    "ds_escolaridade_funcionarios": "PRIMEIRO GRAU (GINASIO) COMPLETO",
                                    "tp_sexo_funcionario": "Masculino",
                                    "contagem": "1366"
                                },
                                {
                                    "ds_escolaridade_funcionarios": "PRIMEIRO GRAU (GINASIO) INCOMPLETO",
                                    "tp_sexo_funcionario": "Masculino",
                                    "contagem": "678"
                                },
                                {
                                    "ds_escolaridade_funcionarios": "SEGUNDO GRAU (COLEGIAL) INCOMPLETO",
                                    "tp_sexo_funcionario": "Masculino",
                                    "contagem": "673"
                                },
                                {
                                    "ds_escolaridade_funcionarios": "SUPERIOR COMPLETO",
                                    "tp_sexo_funcionario": "Masculino",
                                    "contagem": "251"
                                },
                                {
                                    "ds_escolaridade_funcionarios": "OUTRO",
                                    "tp_sexo_funcionario": "Masculino",
                                    "contagem": "206"
                                },
                                {
                                    "ds_escolaridade_funcionarios": "SUPERIOR INCOMPLETO",
                                    "tp_sexo_funcionario": "Masculino",
                                    "contagem": "39"
                                },
                                {
                                    "ds_escolaridade_funcionarios": "POS-GRADUACAO/ESPECIALIZACAO",
                                    "tp_sexo_funcionario": "Masculino",
                                    "contagem": "28"
                                },
                                {
                                    "ds_escolaridade_funcionarios": "MESTRADO COMPLETO",
                                    "tp_sexo_funcionario": "Masculino",
                                    "contagem": "5"
                                }
                            ]
                        },
                        "text/html": "<table><tr><th>ds_escolaridade_funcionarios</th><th>tp_sexo_funcionario</th><th>contagem</th></tr><tr><td>SEGUNDO GRAU (COLEGIAL) COMPLETO</td><td>Masculino</td><td>7935</td></tr><tr><td>PRIMEIRO GRAU (GINASIO) COMPLETO</td><td>Masculino</td><td>1366</td></tr><tr><td>PRIMEIRO GRAU (GINASIO) INCOMPLETO</td><td>Masculino</td><td>678</td></tr><tr><td>SEGUNDO GRAU (COLEGIAL) INCOMPLETO</td><td>Masculino</td><td>673</td></tr><tr><td>SUPERIOR COMPLETO</td><td>Masculino</td><td>251</td></tr><tr><td>OUTRO</td><td>Masculino</td><td>206</td></tr><tr><td>SUPERIOR INCOMPLETO</td><td>Masculino</td><td>39</td></tr><tr><td>POS-GRADUACAO/ESPECIALIZACAO</td><td>Masculino</td><td>28</td></tr><tr><td>MESTRADO COMPLETO</td><td>Masculino</td><td>5</td></tr></table>"
                    },
                    "metadata": {}
                }
            ],
            "execution_count": 24
        },
        {
            "cell_type": "markdown",
            "source": [
                "\"Homens membros por escolaridade\" --\\> 2022 --\\> Considerando Todos que trabalharam na RIP no período de 2022"
            ],
            "metadata": {
                "language": "sql",
                "azdata_cell_guid": "3deb7e4c-35b4-4510-8cda-6bcac01caddc"
            },
            "attachments": {}
        },
        {
            "cell_type": "code",
            "source": [
                "USE bi_rip_refinedZone\r\n",
                "GO\r\n",
                "\r\n",
                "SELECT\r\n",
                "    ds_escolaridade_funcionarios,\r\n",
                "    tp_sexo_funcionario,\r\n",
                "    COUNT(1) AS contagem\r\n",
                "FROM dpp.vw_dim_funcionarios\r\n",
                "WHERE \r\n",
                "    tp_sexo_funcionario = 'Masculino' AND \r\n",
                "    tp_situacao_folha <> 'Transferido' AND\r\n",
                "    (\r\n",
                "        dt_demissao_funcionario > DATEFROMPARTS(2021, 12, 31) AND\r\n",
                "        dt_demissao_funcionario < DATEFROMPARTS(2023, 01, 01)\r\n",
                "        OR dt_demissao_funcionario IS NULL\r\n",
                "    )  AND\r\n",
                "    dt_admissao_funcionarios < DATEFROMPARTS(2023, 01, 01)\r\n",
                "    \r\n",
                "GROUP BY ds_escolaridade_funcionarios, tp_sexo_funcionario\r\n",
                "ORDER BY COUNT(1) DESC;"
            ],
            "metadata": {
                "language": "sql",
                "azdata_cell_guid": "7fac1a42-f349-47a9-8e89-9ad3fa9c7716"
            },
            "outputs": [
                {
                    "output_type": "display_data",
                    "data": {
                        "text/html": "Commands completed successfully."
                    },
                    "metadata": {}
                },
                {
                    "output_type": "display_data",
                    "data": {
                        "text/html": "(9 rows affected)"
                    },
                    "metadata": {}
                },
                {
                    "output_type": "display_data",
                    "data": {
                        "text/html": "Total execution time: 00:00:00.084"
                    },
                    "metadata": {}
                },
                {
                    "output_type": "execute_result",
                    "execution_count": 25,
                    "data": {
                        "application/vnd.dataresource+json": {
                            "schema": {
                                "fields": [
                                    {
                                        "name": "ds_escolaridade_funcionarios"
                                    },
                                    {
                                        "name": "tp_sexo_funcionario"
                                    },
                                    {
                                        "name": "contagem"
                                    }
                                ]
                            },
                            "data": [
                                {
                                    "ds_escolaridade_funcionarios": "SEGUNDO GRAU (COLEGIAL) COMPLETO",
                                    "tp_sexo_funcionario": "Masculino",
                                    "contagem": "9506"
                                },
                                {
                                    "ds_escolaridade_funcionarios": "PRIMEIRO GRAU (GINASIO) COMPLETO",
                                    "tp_sexo_funcionario": "Masculino",
                                    "contagem": "1648"
                                },
                                {
                                    "ds_escolaridade_funcionarios": "SEGUNDO GRAU (COLEGIAL) INCOMPLETO",
                                    "tp_sexo_funcionario": "Masculino",
                                    "contagem": "924"
                                },
                                {
                                    "ds_escolaridade_funcionarios": "PRIMEIRO GRAU (GINASIO) INCOMPLETO",
                                    "tp_sexo_funcionario": "Masculino",
                                    "contagem": "612"
                                },
                                {
                                    "ds_escolaridade_funcionarios": "OUTRO",
                                    "tp_sexo_funcionario": "Masculino",
                                    "contagem": "292"
                                },
                                {
                                    "ds_escolaridade_funcionarios": "SUPERIOR COMPLETO",
                                    "tp_sexo_funcionario": "Masculino",
                                    "contagem": "249"
                                },
                                {
                                    "ds_escolaridade_funcionarios": "SUPERIOR INCOMPLETO",
                                    "tp_sexo_funcionario": "Masculino",
                                    "contagem": "45"
                                },
                                {
                                    "ds_escolaridade_funcionarios": "POS-GRADUACAO/ESPECIALIZACAO",
                                    "tp_sexo_funcionario": "Masculino",
                                    "contagem": "27"
                                },
                                {
                                    "ds_escolaridade_funcionarios": "MESTRADO COMPLETO",
                                    "tp_sexo_funcionario": "Masculino",
                                    "contagem": "4"
                                }
                            ]
                        },
                        "text/html": "<table><tr><th>ds_escolaridade_funcionarios</th><th>tp_sexo_funcionario</th><th>contagem</th></tr><tr><td>SEGUNDO GRAU (COLEGIAL) COMPLETO</td><td>Masculino</td><td>9506</td></tr><tr><td>PRIMEIRO GRAU (GINASIO) COMPLETO</td><td>Masculino</td><td>1648</td></tr><tr><td>SEGUNDO GRAU (COLEGIAL) INCOMPLETO</td><td>Masculino</td><td>924</td></tr><tr><td>PRIMEIRO GRAU (GINASIO) INCOMPLETO</td><td>Masculino</td><td>612</td></tr><tr><td>OUTRO</td><td>Masculino</td><td>292</td></tr><tr><td>SUPERIOR COMPLETO</td><td>Masculino</td><td>249</td></tr><tr><td>SUPERIOR INCOMPLETO</td><td>Masculino</td><td>45</td></tr><tr><td>POS-GRADUACAO/ESPECIALIZACAO</td><td>Masculino</td><td>27</td></tr><tr><td>MESTRADO COMPLETO</td><td>Masculino</td><td>4</td></tr></table>"
                    },
                    "metadata": {}
                }
            ],
            "execution_count": 25
        },
        {
            "cell_type": "markdown",
            "source": [
                "\"Homens membros por escolaridade\" --\\> 2023 --\\> Considerando Todos que trabalharam na RIP no período de 2023"
            ],
            "metadata": {
                "language": "sql",
                "azdata_cell_guid": "75a0a8b6-048d-49f8-aadd-1dc23bf4594f"
            },
            "attachments": {}
        },
        {
            "cell_type": "code",
            "source": [
                "USE bi_rip_refinedZone\r\n",
                "GO\r\n",
                "\r\n",
                "SELECT\r\n",
                "    ds_escolaridade_funcionarios,\r\n",
                "    tp_sexo_funcionario,\r\n",
                "    COUNT(1) AS contagem\r\n",
                "FROM dpp.vw_dim_funcionarios\r\n",
                "WHERE \r\n",
                "    tp_sexo_funcionario = 'Masculino' AND \r\n",
                "    tp_situacao_folha <> 'Transferido' AND\r\n",
                "    (\r\n",
                "        dt_demissao_funcionario > DATEFROMPARTS(2022, 12, 31) AND\r\n",
                "        dt_demissao_funcionario < DATEFROMPARTS(2024, 01, 01)\r\n",
                "        OR dt_demissao_funcionario IS NULL\r\n",
                "    )  AND\r\n",
                "    dt_admissao_funcionarios < DATEFROMPARTS(2024, 01, 01)\r\n",
                "    \r\n",
                "GROUP BY ds_escolaridade_funcionarios, tp_sexo_funcionario\r\n",
                "ORDER BY COUNT(1) DESC;"
            ],
            "metadata": {
                "language": "sql",
                "azdata_cell_guid": "ffa73cf8-b701-452d-bfe7-f87f2ad38efa"
            },
            "outputs": [
                {
                    "output_type": "display_data",
                    "data": {
                        "text/html": "Commands completed successfully."
                    },
                    "metadata": {}
                },
                {
                    "output_type": "display_data",
                    "data": {
                        "text/html": "(9 rows affected)"
                    },
                    "metadata": {}
                },
                {
                    "output_type": "display_data",
                    "data": {
                        "text/html": "Total execution time: 00:00:00.078"
                    },
                    "metadata": {}
                },
                {
                    "output_type": "execute_result",
                    "execution_count": 26,
                    "data": {
                        "application/vnd.dataresource+json": {
                            "schema": {
                                "fields": [
                                    {
                                        "name": "ds_escolaridade_funcionarios"
                                    },
                                    {
                                        "name": "tp_sexo_funcionario"
                                    },
                                    {
                                        "name": "contagem"
                                    }
                                ]
                            },
                            "data": [
                                {
                                    "ds_escolaridade_funcionarios": "SEGUNDO GRAU (COLEGIAL) COMPLETO",
                                    "tp_sexo_funcionario": "Masculino",
                                    "contagem": "11455"
                                },
                                {
                                    "ds_escolaridade_funcionarios": "PRIMEIRO GRAU (GINASIO) COMPLETO",
                                    "tp_sexo_funcionario": "Masculino",
                                    "contagem": "1732"
                                },
                                {
                                    "ds_escolaridade_funcionarios": "SEGUNDO GRAU (COLEGIAL) INCOMPLETO",
                                    "tp_sexo_funcionario": "Masculino",
                                    "contagem": "969"
                                },
                                {
                                    "ds_escolaridade_funcionarios": "PRIMEIRO GRAU (GINASIO) INCOMPLETO",
                                    "tp_sexo_funcionario": "Masculino",
                                    "contagem": "722"
                                },
                                {
                                    "ds_escolaridade_funcionarios": "OUTRO",
                                    "tp_sexo_funcionario": "Masculino",
                                    "contagem": "305"
                                },
                                {
                                    "ds_escolaridade_funcionarios": "SUPERIOR COMPLETO",
                                    "tp_sexo_funcionario": "Masculino",
                                    "contagem": "298"
                                },
                                {
                                    "ds_escolaridade_funcionarios": "SUPERIOR INCOMPLETO",
                                    "tp_sexo_funcionario": "Masculino",
                                    "contagem": "58"
                                },
                                {
                                    "ds_escolaridade_funcionarios": "POS-GRADUACAO/ESPECIALIZACAO",
                                    "tp_sexo_funcionario": "Masculino",
                                    "contagem": "29"
                                },
                                {
                                    "ds_escolaridade_funcionarios": "MESTRADO COMPLETO",
                                    "tp_sexo_funcionario": "Masculino",
                                    "contagem": "2"
                                }
                            ]
                        },
                        "text/html": "<table><tr><th>ds_escolaridade_funcionarios</th><th>tp_sexo_funcionario</th><th>contagem</th></tr><tr><td>SEGUNDO GRAU (COLEGIAL) COMPLETO</td><td>Masculino</td><td>11455</td></tr><tr><td>PRIMEIRO GRAU (GINASIO) COMPLETO</td><td>Masculino</td><td>1732</td></tr><tr><td>SEGUNDO GRAU (COLEGIAL) INCOMPLETO</td><td>Masculino</td><td>969</td></tr><tr><td>PRIMEIRO GRAU (GINASIO) INCOMPLETO</td><td>Masculino</td><td>722</td></tr><tr><td>OUTRO</td><td>Masculino</td><td>305</td></tr><tr><td>SUPERIOR COMPLETO</td><td>Masculino</td><td>298</td></tr><tr><td>SUPERIOR INCOMPLETO</td><td>Masculino</td><td>58</td></tr><tr><td>POS-GRADUACAO/ESPECIALIZACAO</td><td>Masculino</td><td>29</td></tr><tr><td>MESTRADO COMPLETO</td><td>Masculino</td><td>2</td></tr></table>"
                    },
                    "metadata": {}
                }
            ],
            "execution_count": 26
        },
        {
            "cell_type": "markdown",
            "source": [
                "Perfil das Mulheres membros - cor/raça --\\> 2021 --\\> Considerando Todos que trabalharam na RIP no período 2021"
            ],
            "metadata": {
                "language": "sql",
                "azdata_cell_guid": "433fde38-3c70-4cce-94da-4aa4f2f2a89a"
            },
            "attachments": {}
        },
        {
            "cell_type": "code",
            "source": [
                "USE bi_rip_refinedZone\r\n",
                "GO\r\n",
                "\r\n",
                "SELECT\r\n",
                "    tp_raca_funcionario,\r\n",
                "    tp_sexo_funcionario,\r\n",
                "    COUNT(1) AS contagem\r\n",
                "FROM dpp.vw_dim_funcionarios\r\n",
                "WHERE \r\n",
                "    tp_sexo_funcionario = 'Feminino' AND \r\n",
                "    tp_situacao_folha <> 'Transferido' AND\r\n",
                "    (\r\n",
                "        dt_demissao_funcionario > DATEFROMPARTS(2020, 12, 31) AND\r\n",
                "        dt_demissao_funcionario < DATEFROMPARTS(2022, 01, 01)\r\n",
                "        OR dt_demissao_funcionario IS NULL\r\n",
                "    )  AND\r\n",
                "    dt_admissao_funcionarios < DATEFROMPARTS(2022, 01, 01)\r\n",
                "    \r\n",
                "GROUP BY tp_raca_funcionario, tp_sexo_funcionario\r\n",
                "ORDER BY COUNT(1) DESC;"
            ],
            "metadata": {
                "language": "sql",
                "azdata_cell_guid": "15285095-1346-40f6-a097-51f95c0704bd"
            },
            "outputs": [
                {
                    "output_type": "display_data",
                    "data": {
                        "text/html": "Commands completed successfully."
                    },
                    "metadata": {}
                },
                {
                    "output_type": "display_data",
                    "data": {
                        "text/html": "(6 rows affected)"
                    },
                    "metadata": {}
                },
                {
                    "output_type": "display_data",
                    "data": {
                        "text/html": "Total execution time: 00:00:00.148"
                    },
                    "metadata": {}
                },
                {
                    "output_type": "execute_result",
                    "execution_count": 29,
                    "data": {
                        "application/vnd.dataresource+json": {
                            "schema": {
                                "fields": [
                                    {
                                        "name": "tp_raca_funcionario"
                                    },
                                    {
                                        "name": "tp_sexo_funcionario"
                                    },
                                    {
                                        "name": "contagem"
                                    }
                                ]
                            },
                            "data": [
                                {
                                    "tp_raca_funcionario": "Parda",
                                    "tp_sexo_funcionario": "Feminino",
                                    "contagem": "413"
                                },
                                {
                                    "tp_raca_funcionario": "Branca",
                                    "tp_sexo_funcionario": "Feminino",
                                    "contagem": "279"
                                },
                                {
                                    "tp_raca_funcionario": "Não Informado",
                                    "tp_sexo_funcionario": "Feminino",
                                    "contagem": "57"
                                },
                                {
                                    "tp_raca_funcionario": "Negra",
                                    "tp_sexo_funcionario": "Feminino",
                                    "contagem": "47"
                                },
                                {
                                    "tp_raca_funcionario": "Indigena",
                                    "tp_sexo_funcionario": "Feminino",
                                    "contagem": "1"
                                },
                                {
                                    "tp_raca_funcionario": "Amarela",
                                    "tp_sexo_funcionario": "Feminino",
                                    "contagem": "1"
                                }
                            ]
                        },
                        "text/html": "<table><tr><th>tp_raca_funcionario</th><th>tp_sexo_funcionario</th><th>contagem</th></tr><tr><td>Parda</td><td>Feminino</td><td>413</td></tr><tr><td>Branca</td><td>Feminino</td><td>279</td></tr><tr><td>Não Informado</td><td>Feminino</td><td>57</td></tr><tr><td>Negra</td><td>Feminino</td><td>47</td></tr><tr><td>Indigena</td><td>Feminino</td><td>1</td></tr><tr><td>Amarela</td><td>Feminino</td><td>1</td></tr></table>"
                    },
                    "metadata": {}
                }
            ],
            "execution_count": 29
        },
        {
            "cell_type": "markdown",
            "source": [
                "Perfil das Mulheres membros - cor/raça --\\> 2022 --\\> Considerando Todos que trabalharam na RIP no período 2022"
            ],
            "metadata": {
                "language": "sql",
                "azdata_cell_guid": "edc24094-ec48-4c94-84d6-2559a3ff451e"
            },
            "attachments": {}
        },
        {
            "cell_type": "code",
            "source": [
                "USE bi_rip_refinedZone\r\n",
                "GO\r\n",
                "\r\n",
                "SELECT\r\n",
                "    tp_raca_funcionario,\r\n",
                "    tp_sexo_funcionario,\r\n",
                "    COUNT(1) AS contagem\r\n",
                "FROM dpp.vw_dim_funcionarios\r\n",
                "WHERE \r\n",
                "    tp_sexo_funcionario = 'Feminino' AND \r\n",
                "    tp_situacao_folha <> 'Transferido' AND\r\n",
                "    (\r\n",
                "        dt_demissao_funcionario > DATEFROMPARTS(2021, 12, 31) AND\r\n",
                "        dt_demissao_funcionario < DATEFROMPARTS(2023, 01, 01)\r\n",
                "        OR dt_demissao_funcionario IS NULL\r\n",
                "    )  AND\r\n",
                "    dt_admissao_funcionarios < DATEFROMPARTS(2023, 01, 01)\r\n",
                "    \r\n",
                "GROUP BY tp_raca_funcionario, tp_sexo_funcionario\r\n",
                "ORDER BY COUNT(1) DESC;"
            ],
            "metadata": {
                "language": "sql",
                "azdata_cell_guid": "da20a15a-a09f-43ae-8bf1-a09cff974b95"
            },
            "outputs": [
                {
                    "output_type": "display_data",
                    "data": {
                        "text/html": "Commands completed successfully."
                    },
                    "metadata": {}
                },
                {
                    "output_type": "display_data",
                    "data": {
                        "text/html": "(6 rows affected)"
                    },
                    "metadata": {}
                },
                {
                    "output_type": "display_data",
                    "data": {
                        "text/html": "Total execution time: 00:00:00.170"
                    },
                    "metadata": {}
                },
                {
                    "output_type": "execute_result",
                    "execution_count": 30,
                    "data": {
                        "application/vnd.dataresource+json": {
                            "schema": {
                                "fields": [
                                    {
                                        "name": "tp_raca_funcionario"
                                    },
                                    {
                                        "name": "tp_sexo_funcionario"
                                    },
                                    {
                                        "name": "contagem"
                                    }
                                ]
                            },
                            "data": [
                                {
                                    "tp_raca_funcionario": "Parda",
                                    "tp_sexo_funcionario": "Feminino",
                                    "contagem": "494"
                                },
                                {
                                    "tp_raca_funcionario": "Branca",
                                    "tp_sexo_funcionario": "Feminino",
                                    "contagem": "302"
                                },
                                {
                                    "tp_raca_funcionario": "Não Informado",
                                    "tp_sexo_funcionario": "Feminino",
                                    "contagem": "160"
                                },
                                {
                                    "tp_raca_funcionario": "Negra",
                                    "tp_sexo_funcionario": "Feminino",
                                    "contagem": "61"
                                },
                                {
                                    "tp_raca_funcionario": "Indigena",
                                    "tp_sexo_funcionario": "Feminino",
                                    "contagem": "2"
                                },
                                {
                                    "tp_raca_funcionario": "Amarela",
                                    "tp_sexo_funcionario": "Feminino",
                                    "contagem": "2"
                                }
                            ]
                        },
                        "text/html": "<table><tr><th>tp_raca_funcionario</th><th>tp_sexo_funcionario</th><th>contagem</th></tr><tr><td>Parda</td><td>Feminino</td><td>494</td></tr><tr><td>Branca</td><td>Feminino</td><td>302</td></tr><tr><td>Não Informado</td><td>Feminino</td><td>160</td></tr><tr><td>Negra</td><td>Feminino</td><td>61</td></tr><tr><td>Indigena</td><td>Feminino</td><td>2</td></tr><tr><td>Amarela</td><td>Feminino</td><td>2</td></tr></table>"
                    },
                    "metadata": {}
                }
            ],
            "execution_count": 30
        },
        {
            "cell_type": "markdown",
            "source": [
                "Perfil das Mulheres membros - cor/raça --\\> 2023 --\\> Considerando Todos que trabalharam na RIP no período 2023"
            ],
            "metadata": {
                "language": "sql",
                "azdata_cell_guid": "61da1462-1df8-4fa3-a3e2-b5bfa221d7cc"
            },
            "attachments": {}
        },
        {
            "cell_type": "code",
            "source": [
                "USE bi_rip_refinedZone\r\n",
                "GO\r\n",
                "\r\n",
                "SELECT\r\n",
                "    tp_raca_funcionario,\r\n",
                "    tp_sexo_funcionario,\r\n",
                "    COUNT(1) AS contagem\r\n",
                "FROM dpp.vw_dim_funcionarios\r\n",
                "WHERE \r\n",
                "    tp_sexo_funcionario = 'Feminino' AND \r\n",
                "    tp_situacao_folha <> 'Transferido' AND\r\n",
                "    (\r\n",
                "        dt_demissao_funcionario > DATEFROMPARTS(2022, 12, 31) AND\r\n",
                "        dt_demissao_funcionario < DATEFROMPARTS(2024, 01, 01)\r\n",
                "        OR dt_demissao_funcionario IS NULL\r\n",
                "    )  AND\r\n",
                "    dt_admissao_funcionarios < DATEFROMPARTS(2024, 01, 01)\r\n",
                "    \r\n",
                "GROUP BY tp_raca_funcionario, tp_sexo_funcionario\r\n",
                "ORDER BY COUNT(1) DESC;"
            ],
            "metadata": {
                "language": "sql",
                "azdata_cell_guid": "7aa81de4-36f0-4909-95a6-d3479d70857c"
            },
            "outputs": [
                {
                    "output_type": "display_data",
                    "data": {
                        "text/html": "Commands completed successfully."
                    },
                    "metadata": {}
                },
                {
                    "output_type": "display_data",
                    "data": {
                        "text/html": "(6 rows affected)"
                    },
                    "metadata": {}
                },
                {
                    "output_type": "display_data",
                    "data": {
                        "text/html": "Total execution time: 00:00:00.186"
                    },
                    "metadata": {}
                },
                {
                    "output_type": "execute_result",
                    "execution_count": 34,
                    "data": {
                        "application/vnd.dataresource+json": {
                            "schema": {
                                "fields": [
                                    {
                                        "name": "tp_raca_funcionario"
                                    },
                                    {
                                        "name": "tp_sexo_funcionario"
                                    },
                                    {
                                        "name": "contagem"
                                    }
                                ]
                            },
                            "data": [
                                {
                                    "tp_raca_funcionario": "Parda",
                                    "tp_sexo_funcionario": "Feminino",
                                    "contagem": "634"
                                },
                                {
                                    "tp_raca_funcionario": "Branca",
                                    "tp_sexo_funcionario": "Feminino",
                                    "contagem": "381"
                                },
                                {
                                    "tp_raca_funcionario": "Não Informado",
                                    "tp_sexo_funcionario": "Feminino",
                                    "contagem": "257"
                                },
                                {
                                    "tp_raca_funcionario": "Negra",
                                    "tp_sexo_funcionario": "Feminino",
                                    "contagem": "96"
                                },
                                {
                                    "tp_raca_funcionario": "Amarela",
                                    "tp_sexo_funcionario": "Feminino",
                                    "contagem": "6"
                                },
                                {
                                    "tp_raca_funcionario": "Indigena",
                                    "tp_sexo_funcionario": "Feminino",
                                    "contagem": "2"
                                }
                            ]
                        },
                        "text/html": "<table><tr><th>tp_raca_funcionario</th><th>tp_sexo_funcionario</th><th>contagem</th></tr><tr><td>Parda</td><td>Feminino</td><td>634</td></tr><tr><td>Branca</td><td>Feminino</td><td>381</td></tr><tr><td>Não Informado</td><td>Feminino</td><td>257</td></tr><tr><td>Negra</td><td>Feminino</td><td>96</td></tr><tr><td>Amarela</td><td>Feminino</td><td>6</td></tr><tr><td>Indigena</td><td>Feminino</td><td>2</td></tr></table>"
                    },
                    "metadata": {}
                }
            ],
            "execution_count": 34
        },
        {
            "cell_type": "markdown",
            "source": [
                "Perfil das Homens membros - cor/raça --\\> 2021 --\\> Considerando Todos que trabalharam na RIP no período 2021"
            ],
            "metadata": {
                "language": "sql",
                "azdata_cell_guid": "5ed5b755-cf0b-485e-80fd-74b0f3e4f106"
            },
            "attachments": {}
        },
        {
            "cell_type": "code",
            "source": [
                "USE bi_rip_refinedZone\r\n",
                "GO\r\n",
                "\r\n",
                "SELECT\r\n",
                "    tp_raca_funcionario,\r\n",
                "    tp_sexo_funcionario,\r\n",
                "    COUNT(1) AS contagem\r\n",
                "FROM dpp.vw_dim_funcionarios\r\n",
                "WHERE \r\n",
                "    tp_sexo_funcionario = 'Masculino' AND \r\n",
                "    tp_situacao_folha <> 'Transferido' AND\r\n",
                "    (\r\n",
                "        dt_demissao_funcionario > DATEFROMPARTS(2020, 12, 31) AND\r\n",
                "        dt_demissao_funcionario < DATEFROMPARTS(2022, 01, 01)\r\n",
                "        OR dt_demissao_funcionario IS NULL\r\n",
                "    )  AND\r\n",
                "    dt_admissao_funcionarios < DATEFROMPARTS(2022, 01, 01)\r\n",
                "    \r\n",
                "GROUP BY tp_raca_funcionario, tp_sexo_funcionario\r\n",
                "ORDER BY COUNT(1) DESC;"
            ],
            "metadata": {
                "language": "sql",
                "azdata_cell_guid": "7b49f4a2-a215-45ef-93b8-272686ac549b"
            },
            "outputs": [
                {
                    "output_type": "display_data",
                    "data": {
                        "text/html": "Commands completed successfully."
                    },
                    "metadata": {}
                },
                {
                    "output_type": "display_data",
                    "data": {
                        "text/html": "(6 rows affected)"
                    },
                    "metadata": {}
                },
                {
                    "output_type": "display_data",
                    "data": {
                        "text/html": "Total execution time: 00:00:00.176"
                    },
                    "metadata": {}
                },
                {
                    "output_type": "execute_result",
                    "execution_count": 35,
                    "data": {
                        "application/vnd.dataresource+json": {
                            "schema": {
                                "fields": [
                                    {
                                        "name": "tp_raca_funcionario"
                                    },
                                    {
                                        "name": "tp_sexo_funcionario"
                                    },
                                    {
                                        "name": "contagem"
                                    }
                                ]
                            },
                            "data": [
                                {
                                    "tp_raca_funcionario": "Parda",
                                    "tp_sexo_funcionario": "Masculino",
                                    "contagem": "7281"
                                },
                                {
                                    "tp_raca_funcionario": "Branca",
                                    "tp_sexo_funcionario": "Masculino",
                                    "contagem": "1985"
                                },
                                {
                                    "tp_raca_funcionario": "Negra",
                                    "tp_sexo_funcionario": "Masculino",
                                    "contagem": "1045"
                                },
                                {
                                    "tp_raca_funcionario": "Não Informado",
                                    "tp_sexo_funcionario": "Masculino",
                                    "contagem": "821"
                                },
                                {
                                    "tp_raca_funcionario": "Amarela",
                                    "tp_sexo_funcionario": "Masculino",
                                    "contagem": "41"
                                },
                                {
                                    "tp_raca_funcionario": "Indigena",
                                    "tp_sexo_funcionario": "Masculino",
                                    "contagem": "8"
                                }
                            ]
                        },
                        "text/html": "<table><tr><th>tp_raca_funcionario</th><th>tp_sexo_funcionario</th><th>contagem</th></tr><tr><td>Parda</td><td>Masculino</td><td>7281</td></tr><tr><td>Branca</td><td>Masculino</td><td>1985</td></tr><tr><td>Negra</td><td>Masculino</td><td>1045</td></tr><tr><td>Não Informado</td><td>Masculino</td><td>821</td></tr><tr><td>Amarela</td><td>Masculino</td><td>41</td></tr><tr><td>Indigena</td><td>Masculino</td><td>8</td></tr></table>"
                    },
                    "metadata": {}
                }
            ],
            "execution_count": 35
        },
        {
            "cell_type": "markdown",
            "source": [
                "Perfil das Homens membros - cor/raça --\\> 2022 --\\> Considerando Todos que trabalharam na RIP no período 2022"
            ],
            "metadata": {
                "language": "sql",
                "azdata_cell_guid": "664f7f91-0a29-44b5-8cc0-8ffef8429746"
            },
            "attachments": {}
        },
        {
            "cell_type": "code",
            "source": [
                "USE bi_rip_refinedZone\r\n",
                "GO\r\n",
                "\r\n",
                "SELECT\r\n",
                "    tp_raca_funcionario,\r\n",
                "    tp_sexo_funcionario,\r\n",
                "    COUNT(1) AS contagem\r\n",
                "FROM dpp.vw_dim_funcionarios\r\n",
                "WHERE \r\n",
                "    tp_sexo_funcionario = 'Masculino' AND \r\n",
                "    tp_situacao_folha <> 'Transferido' AND\r\n",
                "    (\r\n",
                "        dt_demissao_funcionario > DATEFROMPARTS(2021, 12, 31) AND\r\n",
                "        dt_demissao_funcionario < DATEFROMPARTS(2023, 01, 01)\r\n",
                "        OR dt_demissao_funcionario IS NULL\r\n",
                "    )  AND\r\n",
                "    dt_admissao_funcionarios < DATEFROMPARTS(2023, 01, 01)\r\n",
                "    \r\n",
                "GROUP BY tp_raca_funcionario, tp_sexo_funcionario\r\n",
                "ORDER BY COUNT(1) DESC;"
            ],
            "metadata": {
                "language": "sql",
                "azdata_cell_guid": "8f3d4bca-2735-4e62-bec4-0d4bd16c3a70"
            },
            "outputs": [
                {
                    "output_type": "display_data",
                    "data": {
                        "text/html": "Commands completed successfully."
                    },
                    "metadata": {}
                },
                {
                    "output_type": "display_data",
                    "data": {
                        "text/html": "(6 rows affected)"
                    },
                    "metadata": {}
                },
                {
                    "output_type": "display_data",
                    "data": {
                        "text/html": "Total execution time: 00:00:00.166"
                    },
                    "metadata": {}
                },
                {
                    "output_type": "execute_result",
                    "execution_count": 36,
                    "data": {
                        "application/vnd.dataresource+json": {
                            "schema": {
                                "fields": [
                                    {
                                        "name": "tp_raca_funcionario"
                                    },
                                    {
                                        "name": "tp_sexo_funcionario"
                                    },
                                    {
                                        "name": "contagem"
                                    }
                                ]
                            },
                            "data": [
                                {
                                    "tp_raca_funcionario": "Parda",
                                    "tp_sexo_funcionario": "Masculino",
                                    "contagem": "8369"
                                },
                                {
                                    "tp_raca_funcionario": "Branca",
                                    "tp_sexo_funcionario": "Masculino",
                                    "contagem": "2055"
                                },
                                {
                                    "tp_raca_funcionario": "Não Informado",
                                    "tp_sexo_funcionario": "Masculino",
                                    "contagem": "1667"
                                },
                                {
                                    "tp_raca_funcionario": "Negra",
                                    "tp_sexo_funcionario": "Masculino",
                                    "contagem": "1166"
                                },
                                {
                                    "tp_raca_funcionario": "Amarela",
                                    "tp_sexo_funcionario": "Masculino",
                                    "contagem": "40"
                                },
                                {
                                    "tp_raca_funcionario": "Indigena",
                                    "tp_sexo_funcionario": "Masculino",
                                    "contagem": "10"
                                }
                            ]
                        },
                        "text/html": "<table><tr><th>tp_raca_funcionario</th><th>tp_sexo_funcionario</th><th>contagem</th></tr><tr><td>Parda</td><td>Masculino</td><td>8369</td></tr><tr><td>Branca</td><td>Masculino</td><td>2055</td></tr><tr><td>Não Informado</td><td>Masculino</td><td>1667</td></tr><tr><td>Negra</td><td>Masculino</td><td>1166</td></tr><tr><td>Amarela</td><td>Masculino</td><td>40</td></tr><tr><td>Indigena</td><td>Masculino</td><td>10</td></tr></table>"
                    },
                    "metadata": {}
                }
            ],
            "execution_count": 36
        },
        {
            "cell_type": "markdown",
            "source": [
                "Perfil das Homens membros - cor/raça --\\> 2023 --\\> Considerando Todos que trabalharam na RIP no período 2023"
            ],
            "metadata": {
                "language": "sql",
                "azdata_cell_guid": "55f67fa7-a393-4592-b9f9-af1bd40b1633"
            },
            "attachments": {}
        },
        {
            "cell_type": "code",
            "source": [
                "USE bi_rip_refinedZone\r\n",
                "GO\r\n",
                "\r\n",
                "SELECT\r\n",
                "    tp_raca_funcionario,\r\n",
                "    tp_sexo_funcionario,\r\n",
                "    COUNT(1) AS contagem\r\n",
                "FROM dpp.vw_dim_funcionarios\r\n",
                "WHERE \r\n",
                "    tp_sexo_funcionario = 'Masculino' AND \r\n",
                "    tp_situacao_folha <> 'Transferido' AND\r\n",
                "    (\r\n",
                "        dt_demissao_funcionario > DATEFROMPARTS(2022, 12, 31) AND\r\n",
                "        dt_demissao_funcionario < DATEFROMPARTS(2024, 01, 01)\r\n",
                "        OR dt_demissao_funcionario IS NULL\r\n",
                "    )  AND\r\n",
                "    dt_admissao_funcionarios < DATEFROMPARTS(2024, 01, 01)\r\n",
                "    \r\n",
                "GROUP BY tp_raca_funcionario, tp_sexo_funcionario\r\n",
                "ORDER BY COUNT(1) DESC;"
            ],
            "metadata": {
                "language": "sql",
                "azdata_cell_guid": "637471cc-0cf1-4b1c-ae6e-7206de793bb0"
            },
            "outputs": [
                {
                    "output_type": "display_data",
                    "data": {
                        "text/html": "Commands completed successfully."
                    },
                    "metadata": {}
                },
                {
                    "output_type": "display_data",
                    "data": {
                        "text/html": "(6 rows affected)"
                    },
                    "metadata": {}
                },
                {
                    "output_type": "display_data",
                    "data": {
                        "text/html": "Total execution time: 00:00:00.137"
                    },
                    "metadata": {}
                },
                {
                    "output_type": "execute_result",
                    "execution_count": 37,
                    "data": {
                        "application/vnd.dataresource+json": {
                            "schema": {
                                "fields": [
                                    {
                                        "name": "tp_raca_funcionario"
                                    },
                                    {
                                        "name": "tp_sexo_funcionario"
                                    },
                                    {
                                        "name": "contagem"
                                    }
                                ]
                            },
                            "data": [
                                {
                                    "tp_raca_funcionario": "Parda",
                                    "tp_sexo_funcionario": "Masculino",
                                    "contagem": "9030"
                                },
                                {
                                    "tp_raca_funcionario": "Não Informado",
                                    "tp_sexo_funcionario": "Masculino",
                                    "contagem": "2690"
                                },
                                {
                                    "tp_raca_funcionario": "Branca",
                                    "tp_sexo_funcionario": "Masculino",
                                    "contagem": "2386"
                                },
                                {
                                    "tp_raca_funcionario": "Negra",
                                    "tp_sexo_funcionario": "Masculino",
                                    "contagem": "1390"
                                },
                                {
                                    "tp_raca_funcionario": "Amarela",
                                    "tp_sexo_funcionario": "Masculino",
                                    "contagem": "60"
                                },
                                {
                                    "tp_raca_funcionario": "Indigena",
                                    "tp_sexo_funcionario": "Masculino",
                                    "contagem": "14"
                                }
                            ]
                        },
                        "text/html": "<table><tr><th>tp_raca_funcionario</th><th>tp_sexo_funcionario</th><th>contagem</th></tr><tr><td>Parda</td><td>Masculino</td><td>9030</td></tr><tr><td>Não Informado</td><td>Masculino</td><td>2690</td></tr><tr><td>Branca</td><td>Masculino</td><td>2386</td></tr><tr><td>Negra</td><td>Masculino</td><td>1390</td></tr><tr><td>Amarela</td><td>Masculino</td><td>60</td></tr><tr><td>Indigena</td><td>Masculino</td><td>14</td></tr></table>"
                    },
                    "metadata": {}
                }
            ],
            "execution_count": 37
        },
        {
            "cell_type": "markdown",
            "source": [
                " Perfil das Mulheres membros por tipo de deficiência --\\> 2021 --\\> Considerando Todos que trabalharam na RIP no período 2021"
            ],
            "metadata": {
                "language": "sql",
                "azdata_cell_guid": "3bebeaab-6de2-4557-962a-60eeb850472e"
            },
            "attachments": {}
        },
        {
            "cell_type": "code",
            "source": [
                "USE bi_rip_refinedZone\r\n",
                "GO\r\n",
                "\r\n",
                "SELECT\r\n",
                "    tp_defic_funcionarios,\r\n",
                "    tp_sexo_funcionario,\r\n",
                "    COUNT(1) AS contagem\r\n",
                "FROM dpp.vw_dim_funcionarios\r\n",
                "WHERE \r\n",
                "    tp_sexo_funcionario = 'Feminino' AND \r\n",
                "    tp_situacao_folha <> 'Transferido' AND\r\n",
                "    (\r\n",
                "        dt_demissao_funcionario > DATEFROMPARTS(2020, 12, 31) AND\r\n",
                "        dt_demissao_funcionario < DATEFROMPARTS(2022, 01, 01)\r\n",
                "        OR dt_demissao_funcionario IS NULL\r\n",
                "    )  AND\r\n",
                "    dt_admissao_funcionarios < DATEFROMPARTS(2022, 01, 01)\r\n",
                "    \r\n",
                "GROUP BY tp_defic_funcionarios, tp_sexo_funcionario\r\n",
                "ORDER BY COUNT(1) DESC;"
            ],
            "metadata": {
                "language": "sql",
                "azdata_cell_guid": "957c30ec-2e74-41fd-a954-7c4f466f0d32"
            },
            "outputs": [
                {
                    "output_type": "display_data",
                    "data": {
                        "text/html": "Commands completed successfully."
                    },
                    "metadata": {}
                },
                {
                    "output_type": "display_data",
                    "data": {
                        "text/html": "(4 rows affected)"
                    },
                    "metadata": {}
                },
                {
                    "output_type": "display_data",
                    "data": {
                        "text/html": "Total execution time: 00:00:00.193"
                    },
                    "metadata": {}
                },
                {
                    "output_type": "execute_result",
                    "execution_count": 40,
                    "data": {
                        "application/vnd.dataresource+json": {
                            "schema": {
                                "fields": [
                                    {
                                        "name": "tp_defic_funcionarios"
                                    },
                                    {
                                        "name": "tp_sexo_funcionario"
                                    },
                                    {
                                        "name": "contagem"
                                    }
                                ]
                            },
                            "data": [
                                {
                                    "tp_defic_funcionarios": "Não Portador",
                                    "tp_sexo_funcionario": "Feminino",
                                    "contagem": "784"
                                },
                                {
                                    "tp_defic_funcionarios": "Física",
                                    "tp_sexo_funcionario": "Feminino",
                                    "contagem": "7"
                                },
                                {
                                    "tp_defic_funcionarios": "Visual",
                                    "tp_sexo_funcionario": "Feminino",
                                    "contagem": "4"
                                },
                                {
                                    "tp_defic_funcionarios": "Auditiva",
                                    "tp_sexo_funcionario": "Feminino",
                                    "contagem": "3"
                                }
                            ]
                        },
                        "text/html": "<table><tr><th>tp_defic_funcionarios</th><th>tp_sexo_funcionario</th><th>contagem</th></tr><tr><td>Não Portador</td><td>Feminino</td><td>784</td></tr><tr><td>Física</td><td>Feminino</td><td>7</td></tr><tr><td>Visual</td><td>Feminino</td><td>4</td></tr><tr><td>Auditiva</td><td>Feminino</td><td>3</td></tr></table>"
                    },
                    "metadata": {}
                }
            ],
            "execution_count": 40
        },
        {
            "cell_type": "markdown",
            "source": [
                " Perfil das Mulheres membros por tipo de deficiência --\\> 2022 --\\> Considerando Todos que trabalharam na RIP no período 2022"
            ],
            "metadata": {
                "language": "sql",
                "azdata_cell_guid": "0c064c15-3490-433e-8f35-dcfbe5ea3e7d"
            },
            "attachments": {}
        },
        {
            "cell_type": "code",
            "source": [
                "USE bi_rip_refinedZone\r\n",
                "GO\r\n",
                "\r\n",
                "SELECT\r\n",
                "    tp_defic_funcionarios,\r\n",
                "    tp_sexo_funcionario,\r\n",
                "    COUNT(1) AS contagem\r\n",
                "FROM dpp.vw_dim_funcionarios\r\n",
                "WHERE \r\n",
                "    tp_sexo_funcionario = 'Feminino' AND \r\n",
                "    tp_situacao_folha <> 'Transferido' AND\r\n",
                "    (\r\n",
                "        dt_demissao_funcionario > DATEFROMPARTS(2021, 12, 31) AND\r\n",
                "        dt_demissao_funcionario < DATEFROMPARTS(2023, 01, 01)\r\n",
                "        OR dt_demissao_funcionario IS NULL\r\n",
                "    )  AND\r\n",
                "    dt_admissao_funcionarios < DATEFROMPARTS(2023, 01, 01)\r\n",
                "    \r\n",
                "GROUP BY tp_defic_funcionarios, tp_sexo_funcionario\r\n",
                "ORDER BY COUNT(1) DESC;"
            ],
            "metadata": {
                "language": "sql",
                "azdata_cell_guid": "36ea41c5-204a-415b-a29b-00e9d2549eeb"
            },
            "outputs": [
                {
                    "output_type": "display_data",
                    "data": {
                        "text/html": "Commands completed successfully."
                    },
                    "metadata": {}
                },
                {
                    "output_type": "display_data",
                    "data": {
                        "text/html": "(4 rows affected)"
                    },
                    "metadata": {}
                },
                {
                    "output_type": "display_data",
                    "data": {
                        "text/html": "Total execution time: 00:00:00.189"
                    },
                    "metadata": {}
                },
                {
                    "output_type": "execute_result",
                    "execution_count": 41,
                    "data": {
                        "application/vnd.dataresource+json": {
                            "schema": {
                                "fields": [
                                    {
                                        "name": "tp_defic_funcionarios"
                                    },
                                    {
                                        "name": "tp_sexo_funcionario"
                                    },
                                    {
                                        "name": "contagem"
                                    }
                                ]
                            },
                            "data": [
                                {
                                    "tp_defic_funcionarios": "Não Portador",
                                    "tp_sexo_funcionario": "Feminino",
                                    "contagem": "1010"
                                },
                                {
                                    "tp_defic_funcionarios": "Física",
                                    "tp_sexo_funcionario": "Feminino",
                                    "contagem": "7"
                                },
                                {
                                    "tp_defic_funcionarios": "Visual",
                                    "tp_sexo_funcionario": "Feminino",
                                    "contagem": "2"
                                },
                                {
                                    "tp_defic_funcionarios": "Auditiva",
                                    "tp_sexo_funcionario": "Feminino",
                                    "contagem": "2"
                                }
                            ]
                        },
                        "text/html": "<table><tr><th>tp_defic_funcionarios</th><th>tp_sexo_funcionario</th><th>contagem</th></tr><tr><td>Não Portador</td><td>Feminino</td><td>1010</td></tr><tr><td>Física</td><td>Feminino</td><td>7</td></tr><tr><td>Visual</td><td>Feminino</td><td>2</td></tr><tr><td>Auditiva</td><td>Feminino</td><td>2</td></tr></table>"
                    },
                    "metadata": {}
                }
            ],
            "execution_count": 41
        },
        {
            "cell_type": "markdown",
            "source": [
                " Perfil das Mulheres membros por tipo de deficiência --\\> 2023 --\\> Considerando Todos que trabalharam na RIP no período 2023"
            ],
            "metadata": {
                "language": "sql",
                "azdata_cell_guid": "a9c2c6c5-37aa-469f-b8d4-110d5154abcf"
            },
            "attachments": {}
        },
        {
            "cell_type": "code",
            "source": [
                "USE bi_rip_refinedZone\r\n",
                "GO\r\n",
                "\r\n",
                "SELECT\r\n",
                "    tp_defic_funcionarios,\r\n",
                "    tp_sexo_funcionario,\r\n",
                "    COUNT(1) AS contagem\r\n",
                "FROM dpp.vw_dim_funcionarios\r\n",
                "WHERE \r\n",
                "    tp_sexo_funcionario = 'Feminino' AND \r\n",
                "    tp_situacao_folha <> 'Transferido' AND\r\n",
                "    (\r\n",
                "        dt_demissao_funcionario > DATEFROMPARTS(2022, 12, 31) AND\r\n",
                "        dt_demissao_funcionario < DATEFROMPARTS(2024, 01, 01)\r\n",
                "        OR dt_demissao_funcionario IS NULL\r\n",
                "    )  AND\r\n",
                "    dt_admissao_funcionarios < DATEFROMPARTS(2024, 01, 01)\r\n",
                "    \r\n",
                "GROUP BY tp_defic_funcionarios, tp_sexo_funcionario\r\n",
                "ORDER BY COUNT(1) DESC;"
            ],
            "metadata": {
                "language": "sql",
                "azdata_cell_guid": "8d0359ce-cab9-4c3b-ac27-b312b0b94482"
            },
            "outputs": [
                {
                    "output_type": "display_data",
                    "data": {
                        "text/html": "Commands completed successfully."
                    },
                    "metadata": {}
                },
                {
                    "output_type": "display_data",
                    "data": {
                        "text/html": "(4 rows affected)"
                    },
                    "metadata": {}
                },
                {
                    "output_type": "display_data",
                    "data": {
                        "text/html": "Total execution time: 00:00:00.183"
                    },
                    "metadata": {}
                },
                {
                    "output_type": "execute_result",
                    "execution_count": 42,
                    "data": {
                        "application/vnd.dataresource+json": {
                            "schema": {
                                "fields": [
                                    {
                                        "name": "tp_defic_funcionarios"
                                    },
                                    {
                                        "name": "tp_sexo_funcionario"
                                    },
                                    {
                                        "name": "contagem"
                                    }
                                ]
                            },
                            "data": [
                                {
                                    "tp_defic_funcionarios": "Não Portador",
                                    "tp_sexo_funcionario": "Feminino",
                                    "contagem": "1356"
                                },
                                {
                                    "tp_defic_funcionarios": "Física",
                                    "tp_sexo_funcionario": "Feminino",
                                    "contagem": "10"
                                },
                                {
                                    "tp_defic_funcionarios": "Visual",
                                    "tp_sexo_funcionario": "Feminino",
                                    "contagem": "5"
                                },
                                {
                                    "tp_defic_funcionarios": "Auditiva",
                                    "tp_sexo_funcionario": "Feminino",
                                    "contagem": "5"
                                }
                            ]
                        },
                        "text/html": "<table><tr><th>tp_defic_funcionarios</th><th>tp_sexo_funcionario</th><th>contagem</th></tr><tr><td>Não Portador</td><td>Feminino</td><td>1356</td></tr><tr><td>Física</td><td>Feminino</td><td>10</td></tr><tr><td>Visual</td><td>Feminino</td><td>5</td></tr><tr><td>Auditiva</td><td>Feminino</td><td>5</td></tr></table>"
                    },
                    "metadata": {}
                }
            ],
            "execution_count": 42
        },
        {
            "cell_type": "markdown",
            "source": [
                " Perfil das Homens membros por tipo de deficiência --\\> 2021 --\\> Considerando Todos que trabalharam na RIP no período 2021"
            ],
            "metadata": {
                "language": "sql",
                "azdata_cell_guid": "8c48f4be-3547-40dc-bd1e-1fead95c224f"
            },
            "attachments": {}
        },
        {
            "cell_type": "code",
            "source": [
                "USE bi_rip_refinedZone\r\n",
                "GO\r\n",
                "\r\n",
                "SELECT\r\n",
                "    tp_defic_funcionarios,\r\n",
                "    tp_sexo_funcionario,\r\n",
                "    COUNT(1) AS contagem\r\n",
                "FROM dpp.vw_dim_funcionarios\r\n",
                "WHERE \r\n",
                "    tp_sexo_funcionario = 'Masculino' AND \r\n",
                "    tp_situacao_folha <> 'Transferido' AND\r\n",
                "    (\r\n",
                "        dt_demissao_funcionario > DATEFROMPARTS(2020, 12, 31) AND\r\n",
                "        dt_demissao_funcionario < DATEFROMPARTS(2022, 01, 01)\r\n",
                "        OR dt_demissao_funcionario IS NULL\r\n",
                "    )  AND\r\n",
                "    dt_admissao_funcionarios < DATEFROMPARTS(2022, 01, 01)\r\n",
                "    \r\n",
                "GROUP BY tp_defic_funcionarios, tp_sexo_funcionario\r\n",
                "ORDER BY COUNT(1) DESC;"
            ],
            "metadata": {
                "language": "sql",
                "azdata_cell_guid": "04c4f096-3801-4476-b22a-7f1b5be888d8"
            },
            "outputs": [
                {
                    "output_type": "display_data",
                    "data": {
                        "text/html": "Commands completed successfully."
                    },
                    "metadata": {}
                },
                {
                    "output_type": "display_data",
                    "data": {
                        "text/html": "(6 rows affected)"
                    },
                    "metadata": {}
                },
                {
                    "output_type": "display_data",
                    "data": {
                        "text/html": "Total execution time: 00:00:00.298"
                    },
                    "metadata": {}
                },
                {
                    "output_type": "execute_result",
                    "execution_count": 43,
                    "data": {
                        "application/vnd.dataresource+json": {
                            "schema": {
                                "fields": [
                                    {
                                        "name": "tp_defic_funcionarios"
                                    },
                                    {
                                        "name": "tp_sexo_funcionario"
                                    },
                                    {
                                        "name": "contagem"
                                    }
                                ]
                            },
                            "data": [
                                {
                                    "tp_defic_funcionarios": "Não Portador",
                                    "tp_sexo_funcionario": "Masculino",
                                    "contagem": "11096"
                                },
                                {
                                    "tp_defic_funcionarios": "Física",
                                    "tp_sexo_funcionario": "Masculino",
                                    "contagem": "30"
                                },
                                {
                                    "tp_defic_funcionarios": "Auditiva",
                                    "tp_sexo_funcionario": "Masculino",
                                    "contagem": "27"
                                },
                                {
                                    "tp_defic_funcionarios": "Visual",
                                    "tp_sexo_funcionario": "Masculino",
                                    "contagem": "24"
                                },
                                {
                                    "tp_defic_funcionarios": "Intelectual (Mental)",
                                    "tp_sexo_funcionario": "Masculino",
                                    "contagem": "2"
                                },
                                {
                                    "tp_defic_funcionarios": "Reabilitado",
                                    "tp_sexo_funcionario": "Masculino",
                                    "contagem": "2"
                                }
                            ]
                        },
                        "text/html": "<table><tr><th>tp_defic_funcionarios</th><th>tp_sexo_funcionario</th><th>contagem</th></tr><tr><td>Não Portador</td><td>Masculino</td><td>11096</td></tr><tr><td>Física</td><td>Masculino</td><td>30</td></tr><tr><td>Auditiva</td><td>Masculino</td><td>27</td></tr><tr><td>Visual</td><td>Masculino</td><td>24</td></tr><tr><td>Intelectual (Mental)</td><td>Masculino</td><td>2</td></tr><tr><td>Reabilitado</td><td>Masculino</td><td>2</td></tr></table>"
                    },
                    "metadata": {}
                }
            ],
            "execution_count": 43
        },
        {
            "cell_type": "markdown",
            "source": [
                " Perfil das Homens membros por tipo de deficiência --\\> 2022 --\\> Considerando Todos que trabalharam na RIP no período 2022"
            ],
            "metadata": {
                "language": "sql",
                "azdata_cell_guid": "b7a80466-731d-4101-af5f-ce32d6e857b6"
            },
            "attachments": {}
        },
        {
            "cell_type": "code",
            "source": [
                "USE bi_rip_refinedZone\r\n",
                "GO\r\n",
                "\r\n",
                "SELECT\r\n",
                "    tp_defic_funcionarios,\r\n",
                "    tp_sexo_funcionario,\r\n",
                "    COUNT(1) AS contagem\r\n",
                "FROM dpp.vw_dim_funcionarios\r\n",
                "WHERE \r\n",
                "    tp_sexo_funcionario = 'Masculino' AND \r\n",
                "    tp_situacao_folha <> 'Transferido' AND\r\n",
                "    (\r\n",
                "        dt_demissao_funcionario > DATEFROMPARTS(2021, 12, 31) AND\r\n",
                "        dt_demissao_funcionario < DATEFROMPARTS(2023, 01, 01)\r\n",
                "        OR dt_demissao_funcionario IS NULL\r\n",
                "    )  AND\r\n",
                "    dt_admissao_funcionarios < DATEFROMPARTS(2023, 01, 01)\r\n",
                "    \r\n",
                "GROUP BY tp_defic_funcionarios, tp_sexo_funcionario\r\n",
                "ORDER BY COUNT(1) DESC;"
            ],
            "metadata": {
                "language": "sql",
                "azdata_cell_guid": "a83546a1-6649-42a9-a42f-e3875b251619"
            },
            "outputs": [
                {
                    "output_type": "display_data",
                    "data": {
                        "text/html": "Commands completed successfully."
                    },
                    "metadata": {}
                },
                {
                    "output_type": "display_data",
                    "data": {
                        "text/html": "(6 rows affected)"
                    },
                    "metadata": {}
                },
                {
                    "output_type": "display_data",
                    "data": {
                        "text/html": "Total execution time: 00:00:00.152"
                    },
                    "metadata": {}
                },
                {
                    "output_type": "execute_result",
                    "execution_count": 44,
                    "data": {
                        "application/vnd.dataresource+json": {
                            "schema": {
                                "fields": [
                                    {
                                        "name": "tp_defic_funcionarios"
                                    },
                                    {
                                        "name": "tp_sexo_funcionario"
                                    },
                                    {
                                        "name": "contagem"
                                    }
                                ]
                            },
                            "data": [
                                {
                                    "tp_defic_funcionarios": "Não Portador",
                                    "tp_sexo_funcionario": "Masculino",
                                    "contagem": "13226"
                                },
                                {
                                    "tp_defic_funcionarios": "Física",
                                    "tp_sexo_funcionario": "Masculino",
                                    "contagem": "30"
                                },
                                {
                                    "tp_defic_funcionarios": "Visual",
                                    "tp_sexo_funcionario": "Masculino",
                                    "contagem": "23"
                                },
                                {
                                    "tp_defic_funcionarios": "Auditiva",
                                    "tp_sexo_funcionario": "Masculino",
                                    "contagem": "22"
                                },
                                {
                                    "tp_defic_funcionarios": "Reabilitado",
                                    "tp_sexo_funcionario": "Masculino",
                                    "contagem": "4"
                                },
                                {
                                    "tp_defic_funcionarios": "Intelectual (Mental)",
                                    "tp_sexo_funcionario": "Masculino",
                                    "contagem": "2"
                                }
                            ]
                        },
                        "text/html": "<table><tr><th>tp_defic_funcionarios</th><th>tp_sexo_funcionario</th><th>contagem</th></tr><tr><td>Não Portador</td><td>Masculino</td><td>13226</td></tr><tr><td>Física</td><td>Masculino</td><td>30</td></tr><tr><td>Visual</td><td>Masculino</td><td>23</td></tr><tr><td>Auditiva</td><td>Masculino</td><td>22</td></tr><tr><td>Reabilitado</td><td>Masculino</td><td>4</td></tr><tr><td>Intelectual (Mental)</td><td>Masculino</td><td>2</td></tr></table>"
                    },
                    "metadata": {}
                }
            ],
            "execution_count": 44
        },
        {
            "cell_type": "markdown",
            "source": [
                "|  |\n",
                "| --- |\n",
                "|  <span style=\"font-size: 14px;\">&nbsp;Perfil das Homens membros por tipo de deficiência --&gt; 2022 --&gt; Considerando Todos que trabalharam na RIP no período 2022</span><br> |"
            ],
            "metadata": {
                "language": "sql",
                "azdata_cell_guid": "4f5f0874-ee73-4115-b091-c9a4aab4c86e"
            },
            "attachments": {}
        },
        {
            "cell_type": "code",
            "source": [
                "USE bi_rip_refinedZone\r\n",
                "GO\r\n",
                "\r\n",
                "SELECT\r\n",
                "    tp_defic_funcionarios,\r\n",
                "    tp_sexo_funcionario,\r\n",
                "    COUNT(1) AS contagem\r\n",
                "FROM dpp.vw_dim_funcionarios\r\n",
                "WHERE \r\n",
                "    tp_sexo_funcionario = 'Masculino' AND \r\n",
                "    tp_situacao_folha <> 'Transferido' AND\r\n",
                "    (\r\n",
                "        dt_demissao_funcionario > DATEFROMPARTS(2022, 12, 31) AND\r\n",
                "        dt_demissao_funcionario < DATEFROMPARTS(2024, 01, 01)\r\n",
                "        OR dt_demissao_funcionario IS NULL\r\n",
                "    )  AND\r\n",
                "    dt_admissao_funcionarios < DATEFROMPARTS(2024, 01, 01)\r\n",
                "    \r\n",
                "GROUP BY tp_defic_funcionarios, tp_sexo_funcionario\r\n",
                "ORDER BY COUNT(1) DESC;"
            ],
            "metadata": {
                "language": "sql",
                "azdata_cell_guid": "0b22617b-98de-409f-b592-1af057993746"
            },
            "outputs": [
                {
                    "output_type": "display_data",
                    "data": {
                        "text/html": "Commands completed successfully."
                    },
                    "metadata": {}
                },
                {
                    "output_type": "display_data",
                    "data": {
                        "text/html": "(7 rows affected)"
                    },
                    "metadata": {}
                },
                {
                    "output_type": "display_data",
                    "data": {
                        "text/html": "Total execution time: 00:00:00.151"
                    },
                    "metadata": {}
                },
                {
                    "output_type": "execute_result",
                    "execution_count": 45,
                    "data": {
                        "application/vnd.dataresource+json": {
                            "schema": {
                                "fields": [
                                    {
                                        "name": "tp_defic_funcionarios"
                                    },
                                    {
                                        "name": "tp_sexo_funcionario"
                                    },
                                    {
                                        "name": "contagem"
                                    }
                                ]
                            },
                            "data": [
                                {
                                    "tp_defic_funcionarios": "Não Portador",
                                    "tp_sexo_funcionario": "Masculino",
                                    "contagem": "15448"
                                },
                                {
                                    "tp_defic_funcionarios": "Física",
                                    "tp_sexo_funcionario": "Masculino",
                                    "contagem": "47"
                                },
                                {
                                    "tp_defic_funcionarios": "Visual",
                                    "tp_sexo_funcionario": "Masculino",
                                    "contagem": "37"
                                },
                                {
                                    "tp_defic_funcionarios": "Auditiva",
                                    "tp_sexo_funcionario": "Masculino",
                                    "contagem": "28"
                                },
                                {
                                    "tp_defic_funcionarios": "Intelectual (Mental)",
                                    "tp_sexo_funcionario": "Masculino",
                                    "contagem": "5"
                                },
                                {
                                    "tp_defic_funcionarios": "Reabilitado",
                                    "tp_sexo_funcionario": "Masculino",
                                    "contagem": "4"
                                },
                                {
                                    "tp_defic_funcionarios": "Multipla",
                                    "tp_sexo_funcionario": "Masculino",
                                    "contagem": "1"
                                }
                            ]
                        },
                        "text/html": "<table><tr><th>tp_defic_funcionarios</th><th>tp_sexo_funcionario</th><th>contagem</th></tr><tr><td>Não Portador</td><td>Masculino</td><td>15448</td></tr><tr><td>Física</td><td>Masculino</td><td>47</td></tr><tr><td>Visual</td><td>Masculino</td><td>37</td></tr><tr><td>Auditiva</td><td>Masculino</td><td>28</td></tr><tr><td>Intelectual (Mental)</td><td>Masculino</td><td>5</td></tr><tr><td>Reabilitado</td><td>Masculino</td><td>4</td></tr><tr><td>Multipla</td><td>Masculino</td><td>1</td></tr></table>"
                    },
                    "metadata": {}
                }
            ],
            "execution_count": 45
        },
        {
            "cell_type": "markdown",
            "source": [
                "|  |\n",
                "| --- |\n",
                "|  |\n",
                "\n",
                "```\n",
                " Perfil das Mulheres membros por faixa --> 2021 --> Considerando Todos que trabalharam na RIP no período 2021\n",
                "\n",
                "```\n",
                "\n",
                "|"
            ],
            "metadata": {
                "language": "sql",
                "azdata_cell_guid": "c21753b1-0de3-470c-a3e6-fc10974f4633"
            },
            "attachments": {}
        },
        {
            "cell_type": "code",
            "source": [
                "USE bi_rip_refinedZone\r\n",
                "GO\r\n",
                "\r\n",
                "WITH X AS (\r\n",
                "SELECT\r\n",
                "    CASE \r\n",
                "        WHEN vl_idade_funcionarios BETWEEN 14 AND 18 THEN '14-18'\r\n",
                "        WHEN vl_idade_funcionarios BETWEEN 19 AND 24 THEN '19-24'\r\n",
                "        WHEN vl_idade_funcionarios BETWEEN 25 AND 34 THEN '25-34'\r\n",
                "        WHEN vl_idade_funcionarios BETWEEN 35 AND 44 THEN '35-44'\r\n",
                "        WHEN vl_idade_funcionarios BETWEEN 45 AND 54 THEN '45-54'\r\n",
                "        ELSE '55+'\r\n",
                "        END AS faixa,\r\n",
                "    COUNT(1) AS contagem\r\n",
                "FROM dpp.vw_dim_funcionarios\r\n",
                "WHERE \r\n",
                "    tp_sexo_funcionario = 'Feminino' AND \r\n",
                "    tp_situacao_folha <> 'Transferido' AND\r\n",
                "    (\r\n",
                "        dt_demissao_funcionario > DATEFROMPARTS(2020, 12, 31) AND\r\n",
                "        dt_demissao_funcionario < DATEFROMPARTS(2022, 01, 01)\r\n",
                "        OR dt_demissao_funcionario IS NULL\r\n",
                "    )  AND\r\n",
                "    dt_admissao_funcionarios < DATEFROMPARTS(2022, 01, 01)\r\n",
                "    \r\n",
                "GROUP BY vl_idade_funcionarios\r\n",
                ")\r\n",
                "\r\n",
                "SELECT faixa, SUM(contagem) FROM X\r\n",
                "GROUP BY faixa\r\n",
                "ORDER BY SUM(contagem) DESC;"
            ],
            "metadata": {
                "language": "sql",
                "azdata_cell_guid": "f5e776b6-20ee-42aa-8943-157e53e36ace"
            },
            "outputs": [
                {
                    "output_type": "display_data",
                    "data": {
                        "text/html": "Commands completed successfully."
                    },
                    "metadata": {}
                },
                {
                    "output_type": "display_data",
                    "data": {
                        "text/html": "(5 rows affected)"
                    },
                    "metadata": {}
                },
                {
                    "output_type": "display_data",
                    "data": {
                        "text/html": "Total execution time: 00:00:00.235"
                    },
                    "metadata": {}
                },
                {
                    "output_type": "execute_result",
                    "execution_count": 47,
                    "data": {
                        "application/vnd.dataresource+json": {
                            "schema": {
                                "fields": [
                                    {
                                        "name": "faixa"
                                    },
                                    {
                                        "name": "(No column name)"
                                    }
                                ]
                            },
                            "data": [
                                {
                                    "faixa": "35-44",
                                    "(No column name)": "318"
                                },
                                {
                                    "faixa": "25-34",
                                    "(No column name)": "269"
                                },
                                {
                                    "faixa": "45-54",
                                    "(No column name)": "135"
                                },
                                {
                                    "faixa": "55+",
                                    "(No column name)": "46"
                                },
                                {
                                    "faixa": "19-24",
                                    "(No column name)": "30"
                                }
                            ]
                        },
                        "text/html": "<table><tr><th>faixa</th><th>(No column name)</th></tr><tr><td>35-44</td><td>318</td></tr><tr><td>25-34</td><td>269</td></tr><tr><td>45-54</td><td>135</td></tr><tr><td>55+</td><td>46</td></tr><tr><td>19-24</td><td>30</td></tr></table>"
                    },
                    "metadata": {}
                }
            ],
            "execution_count": 47
        },
        {
            "cell_type": "markdown",
            "source": [
                " Perfil das Mulheres membros por faixa --\\> 2022 --\\> Considerando Todos que trabalharam na RIP no período 2022"
            ],
            "metadata": {
                "language": "sql",
                "azdata_cell_guid": "cca179c8-164b-4414-866b-684a5021be8d"
            },
            "attachments": {}
        },
        {
            "cell_type": "code",
            "source": [
                "USE bi_rip_refinedZone\r\n",
                "GO\r\n",
                "\r\n",
                "WITH X AS (\r\n",
                "SELECT\r\n",
                "    CASE \r\n",
                "        WHEN vl_idade_funcionarios BETWEEN 14 AND 18 THEN '14-18'\r\n",
                "        WHEN vl_idade_funcionarios BETWEEN 19 AND 24 THEN '19-24'\r\n",
                "        WHEN vl_idade_funcionarios BETWEEN 25 AND 34 THEN '25-34'\r\n",
                "        WHEN vl_idade_funcionarios BETWEEN 35 AND 44 THEN '35-44'\r\n",
                "        WHEN vl_idade_funcionarios BETWEEN 45 AND 54 THEN '45-54'\r\n",
                "        ELSE '55+'\r\n",
                "        END AS faixa,\r\n",
                "    COUNT(1) AS contagem\r\n",
                "FROM dpp.vw_dim_funcionarios\r\n",
                "WHERE \r\n",
                "    tp_sexo_funcionario = 'Feminino' AND \r\n",
                "    tp_situacao_folha <> 'Transferido' AND\r\n",
                "    (\r\n",
                "        dt_demissao_funcionario > DATEFROMPARTS(2021, 12, 31) AND\r\n",
                "        dt_demissao_funcionario < DATEFROMPARTS(2023, 01, 01)\r\n",
                "        OR dt_demissao_funcionario IS NULL\r\n",
                "    )  AND\r\n",
                "    dt_admissao_funcionarios < DATEFROMPARTS(2023, 01, 01)\r\n",
                "    \r\n",
                "GROUP BY vl_idade_funcionarios\r\n",
                ")\r\n",
                "\r\n",
                "SELECT faixa, SUM(contagem) FROM X\r\n",
                "GROUP BY faixa\r\n",
                "ORDER BY SUM(contagem) DESC;"
            ],
            "metadata": {
                "language": "sql",
                "azdata_cell_guid": "4bce0762-0049-4583-aa97-6f169b97c3dc"
            },
            "outputs": [
                {
                    "output_type": "display_data",
                    "data": {
                        "text/html": "Commands completed successfully."
                    },
                    "metadata": {}
                },
                {
                    "output_type": "display_data",
                    "data": {
                        "text/html": "(5 rows affected)"
                    },
                    "metadata": {}
                },
                {
                    "output_type": "display_data",
                    "data": {
                        "text/html": "Total execution time: 00:00:00.221"
                    },
                    "metadata": {}
                },
                {
                    "output_type": "execute_result",
                    "execution_count": 48,
                    "data": {
                        "application/vnd.dataresource+json": {
                            "schema": {
                                "fields": [
                                    {
                                        "name": "faixa"
                                    },
                                    {
                                        "name": "(No column name)"
                                    }
                                ]
                            },
                            "data": [
                                {
                                    "faixa": "35-44",
                                    "(No column name)": "385"
                                },
                                {
                                    "faixa": "25-34",
                                    "(No column name)": "360"
                                },
                                {
                                    "faixa": "45-54",
                                    "(No column name)": "166"
                                },
                                {
                                    "faixa": "19-24",
                                    "(No column name)": "56"
                                },
                                {
                                    "faixa": "55+",
                                    "(No column name)": "54"
                                }
                            ]
                        },
                        "text/html": "<table><tr><th>faixa</th><th>(No column name)</th></tr><tr><td>35-44</td><td>385</td></tr><tr><td>25-34</td><td>360</td></tr><tr><td>45-54</td><td>166</td></tr><tr><td>19-24</td><td>56</td></tr><tr><td>55+</td><td>54</td></tr></table>"
                    },
                    "metadata": {}
                }
            ],
            "execution_count": 48
        },
        {
            "cell_type": "markdown",
            "source": [
                " Perfil das Mulheres membros por faixa --\\> 2023 --\\> Considerando Todos que trabalharam na RIP no período 2023"
            ],
            "metadata": {
                "language": "sql",
                "azdata_cell_guid": "a8228ae3-3135-4a6f-8792-97cd1973e502"
            },
            "attachments": {}
        },
        {
            "cell_type": "code",
            "source": [
                "USE bi_rip_refinedZone\r\n",
                "GO\r\n",
                "\r\n",
                "WITH X AS (\r\n",
                "SELECT\r\n",
                "    CASE \r\n",
                "        WHEN vl_idade_funcionarios BETWEEN 14 AND 18 THEN '14-18'\r\n",
                "        WHEN vl_idade_funcionarios BETWEEN 19 AND 24 THEN '19-24'\r\n",
                "        WHEN vl_idade_funcionarios BETWEEN 25 AND 34 THEN '25-34'\r\n",
                "        WHEN vl_idade_funcionarios BETWEEN 35 AND 44 THEN '35-44'\r\n",
                "        WHEN vl_idade_funcionarios BETWEEN 45 AND 54 THEN '45-54'\r\n",
                "        ELSE '55+'\r\n",
                "        END AS faixa,\r\n",
                "    COUNT(1) AS contagem\r\n",
                "FROM dpp.vw_dim_funcionarios\r\n",
                "WHERE \r\n",
                "    tp_sexo_funcionario = 'Feminino' AND \r\n",
                "    tp_situacao_folha <> 'Transferido' AND\r\n",
                "    (\r\n",
                "        dt_demissao_funcionario > DATEFROMPARTS(2022, 12, 31) AND\r\n",
                "        dt_demissao_funcionario < DATEFROMPARTS(2024, 01, 01)\r\n",
                "        OR dt_demissao_funcionario IS NULL\r\n",
                "    )  AND\r\n",
                "    dt_admissao_funcionarios < DATEFROMPARTS(2024, 01, 01)\r\n",
                "    \r\n",
                "GROUP BY vl_idade_funcionarios\r\n",
                ")\r\n",
                "\r\n",
                "SELECT faixa, SUM(contagem) FROM X\r\n",
                "GROUP BY faixa\r\n",
                "ORDER BY SUM(contagem) DESC;"
            ],
            "metadata": {
                "language": "sql",
                "azdata_cell_guid": "3739a3ce-11ab-432d-83cb-b2d448dd41fa"
            },
            "outputs": [
                {
                    "output_type": "display_data",
                    "data": {
                        "text/html": "Commands completed successfully."
                    },
                    "metadata": {}
                },
                {
                    "output_type": "display_data",
                    "data": {
                        "text/html": "(6 rows affected)"
                    },
                    "metadata": {}
                },
                {
                    "output_type": "display_data",
                    "data": {
                        "text/html": "Total execution time: 00:00:00.265"
                    },
                    "metadata": {}
                },
                {
                    "output_type": "execute_result",
                    "execution_count": 49,
                    "data": {
                        "application/vnd.dataresource+json": {
                            "schema": {
                                "fields": [
                                    {
                                        "name": "faixa"
                                    },
                                    {
                                        "name": "(No column name)"
                                    }
                                ]
                            },
                            "data": [
                                {
                                    "faixa": "25-34",
                                    "(No column name)": "534"
                                },
                                {
                                    "faixa": "35-44",
                                    "(No column name)": "462"
                                },
                                {
                                    "faixa": "45-54",
                                    "(No column name)": "178"
                                },
                                {
                                    "faixa": "19-24",
                                    "(No column name)": "146"
                                },
                                {
                                    "faixa": "55+",
                                    "(No column name)": "50"
                                },
                                {
                                    "faixa": "14-18",
                                    "(No column name)": "6"
                                }
                            ]
                        },
                        "text/html": "<table><tr><th>faixa</th><th>(No column name)</th></tr><tr><td>25-34</td><td>534</td></tr><tr><td>35-44</td><td>462</td></tr><tr><td>45-54</td><td>178</td></tr><tr><td>19-24</td><td>146</td></tr><tr><td>55+</td><td>50</td></tr><tr><td>14-18</td><td>6</td></tr></table>"
                    },
                    "metadata": {}
                }
            ],
            "execution_count": 49
        },
        {
            "cell_type": "markdown",
            "source": [
                "Homens faixa etaria 2021"
            ],
            "metadata": {
                "language": "sql",
                "azdata_cell_guid": "5ba38201-039a-483d-a176-1b390030a42f"
            },
            "attachments": {}
        },
        {
            "cell_type": "code",
            "source": [
                "USE bi_rip_refinedZone\r\n",
                "GO\r\n",
                "\r\n",
                "WITH X AS (\r\n",
                "SELECT\r\n",
                "    CASE \r\n",
                "        WHEN vl_idade_funcionarios BETWEEN 14 AND 18 THEN '14-18'\r\n",
                "        WHEN vl_idade_funcionarios BETWEEN 19 AND 24 THEN '19-24'\r\n",
                "        WHEN vl_idade_funcionarios BETWEEN 25 AND 34 THEN '25-34'\r\n",
                "        WHEN vl_idade_funcionarios BETWEEN 35 AND 44 THEN '35-44'\r\n",
                "        WHEN vl_idade_funcionarios BETWEEN 45 AND 54 THEN '45-54'\r\n",
                "        ELSE '55+'\r\n",
                "        END AS faixa,\r\n",
                "    COUNT(1) AS contagem\r\n",
                "FROM dpp.vw_dim_funcionarios\r\n",
                "WHERE \r\n",
                "    tp_sexo_funcionario = 'Masculino' AND \r\n",
                "    tp_situacao_folha <> 'Transferido' AND\r\n",
                "    (\r\n",
                "        dt_demissao_funcionario > DATEFROMPARTS(2020, 12, 31) AND\r\n",
                "        dt_demissao_funcionario < DATEFROMPARTS(2022, 01, 01)\r\n",
                "        OR dt_demissao_funcionario IS NULL\r\n",
                "    )  AND\r\n",
                "    dt_admissao_funcionarios < DATEFROMPARTS(2022, 01, 01)\r\n",
                "    \r\n",
                "GROUP BY vl_idade_funcionarios\r\n",
                ")\r\n",
                "\r\n",
                "SELECT faixa, SUM(contagem) FROM X\r\n",
                "GROUP BY faixa\r\n",
                "ORDER BY SUM(contagem) DESC;"
            ],
            "metadata": {
                "language": "sql",
                "azdata_cell_guid": "b2a2882a-55c2-435d-972d-48fa64e1a2cf"
            },
            "outputs": [
                {
                    "output_type": "display_data",
                    "data": {
                        "text/html": "Commands completed successfully."
                    },
                    "metadata": {}
                },
                {
                    "output_type": "display_data",
                    "data": {
                        "text/html": "(5 rows affected)"
                    },
                    "metadata": {}
                },
                {
                    "output_type": "display_data",
                    "data": {
                        "text/html": "Total execution time: 00:00:00.138"
                    },
                    "metadata": {}
                },
                {
                    "output_type": "execute_result",
                    "execution_count": 50,
                    "data": {
                        "application/vnd.dataresource+json": {
                            "schema": {
                                "fields": [
                                    {
                                        "name": "faixa"
                                    },
                                    {
                                        "name": "(No column name)"
                                    }
                                ]
                            },
                            "data": [
                                {
                                    "faixa": "35-44",
                                    "(No column name)": "4162"
                                },
                                {
                                    "faixa": "25-34",
                                    "(No column name)": "2783"
                                },
                                {
                                    "faixa": "45-54",
                                    "(No column name)": "2499"
                                },
                                {
                                    "faixa": "55+",
                                    "(No column name)": "1318"
                                },
                                {
                                    "faixa": "19-24",
                                    "(No column name)": "419"
                                }
                            ]
                        },
                        "text/html": "<table><tr><th>faixa</th><th>(No column name)</th></tr><tr><td>35-44</td><td>4162</td></tr><tr><td>25-34</td><td>2783</td></tr><tr><td>45-54</td><td>2499</td></tr><tr><td>55+</td><td>1318</td></tr><tr><td>19-24</td><td>419</td></tr></table>"
                    },
                    "metadata": {}
                }
            ],
            "execution_count": 50
        },
        {
            "cell_type": "markdown",
            "source": [
                "homens faixa etaria 2022"
            ],
            "metadata": {
                "language": "sql",
                "azdata_cell_guid": "ef59202c-cd01-46e6-b0f6-a524cd26377c"
            },
            "attachments": {}
        },
        {
            "cell_type": "code",
            "source": [
                "USE bi_rip_refinedZone\r\n",
                "GO\r\n",
                "\r\n",
                "WITH X AS (\r\n",
                "SELECT\r\n",
                "    CASE \r\n",
                "        WHEN vl_idade_funcionarios BETWEEN 14 AND 18 THEN '14-18'\r\n",
                "        WHEN vl_idade_funcionarios BETWEEN 19 AND 24 THEN '19-24'\r\n",
                "        WHEN vl_idade_funcionarios BETWEEN 25 AND 34 THEN '25-34'\r\n",
                "        WHEN vl_idade_funcionarios BETWEEN 35 AND 44 THEN '35-44'\r\n",
                "        WHEN vl_idade_funcionarios BETWEEN 45 AND 54 THEN '45-54'\r\n",
                "        ELSE '55+'\r\n",
                "        END AS faixa,\r\n",
                "    COUNT(1) AS contagem\r\n",
                "FROM dpp.vw_dim_funcionarios\r\n",
                "WHERE \r\n",
                "    tp_sexo_funcionario = 'Masculino' AND \r\n",
                "    tp_situacao_folha <> 'Transferido' AND\r\n",
                "    (\r\n",
                "        dt_demissao_funcionario > DATEFROMPARTS(2021, 12, 31) AND\r\n",
                "        dt_demissao_funcionario < DATEFROMPARTS(2023, 01, 01)\r\n",
                "        OR dt_demissao_funcionario IS NULL\r\n",
                "    )  AND\r\n",
                "    dt_admissao_funcionarios < DATEFROMPARTS(2023, 01, 01)\r\n",
                "    \r\n",
                "GROUP BY vl_idade_funcionarios\r\n",
                ")\r\n",
                "\r\n",
                "SELECT faixa, SUM(contagem) FROM X\r\n",
                "GROUP BY faixa\r\n",
                "ORDER BY SUM(contagem) DESC;"
            ],
            "metadata": {
                "language": "sql",
                "azdata_cell_guid": "b62ec8c6-d1f0-4a4d-a92b-9049fcc48724"
            },
            "outputs": [
                {
                    "output_type": "display_data",
                    "data": {
                        "text/html": "Commands completed successfully."
                    },
                    "metadata": {}
                },
                {
                    "output_type": "display_data",
                    "data": {
                        "text/html": "(5 rows affected)"
                    },
                    "metadata": {}
                },
                {
                    "output_type": "display_data",
                    "data": {
                        "text/html": "Total execution time: 00:00:00.098"
                    },
                    "metadata": {}
                },
                {
                    "output_type": "execute_result",
                    "execution_count": 51,
                    "data": {
                        "application/vnd.dataresource+json": {
                            "schema": {
                                "fields": [
                                    {
                                        "name": "faixa"
                                    },
                                    {
                                        "name": "(No column name)"
                                    }
                                ]
                            },
                            "data": [
                                {
                                    "faixa": "35-44",
                                    "(No column name)": "4775"
                                },
                                {
                                    "faixa": "25-34",
                                    "(No column name)": "3432"
                                },
                                {
                                    "faixa": "45-54",
                                    "(No column name)": "2839"
                                },
                                {
                                    "faixa": "55+",
                                    "(No column name)": "1473"
                                },
                                {
                                    "faixa": "19-24",
                                    "(No column name)": "788"
                                }
                            ]
                        },
                        "text/html": "<table><tr><th>faixa</th><th>(No column name)</th></tr><tr><td>35-44</td><td>4775</td></tr><tr><td>25-34</td><td>3432</td></tr><tr><td>45-54</td><td>2839</td></tr><tr><td>55+</td><td>1473</td></tr><tr><td>19-24</td><td>788</td></tr></table>"
                    },
                    "metadata": {}
                }
            ],
            "execution_count": 51
        },
        {
            "cell_type": "markdown",
            "source": [
                "faixa etaria 2023"
            ],
            "metadata": {
                "language": "sql",
                "azdata_cell_guid": "e90333c4-638a-42f2-8f89-a67e266a00cd"
            },
            "attachments": {}
        },
        {
            "cell_type": "code",
            "source": [
                "USE bi_rip_refinedZone\r\n",
                "GO\r\n",
                "\r\n",
                "WITH X AS (\r\n",
                "SELECT\r\n",
                "    CASE \r\n",
                "        WHEN vl_idade_funcionarios BETWEEN 14 AND 18 THEN '14-18'\r\n",
                "        WHEN vl_idade_funcionarios BETWEEN 19 AND 24 THEN '19-24'\r\n",
                "        WHEN vl_idade_funcionarios BETWEEN 25 AND 34 THEN '25-34'\r\n",
                "        WHEN vl_idade_funcionarios BETWEEN 35 AND 44 THEN '35-44'\r\n",
                "        WHEN vl_idade_funcionarios BETWEEN 45 AND 54 THEN '45-54'\r\n",
                "        ELSE '55+'\r\n",
                "        END AS faixa,\r\n",
                "    COUNT(1) AS contagem\r\n",
                "FROM dpp.vw_dim_funcionarios\r\n",
                "WHERE \r\n",
                "    tp_sexo_funcionario = 'Masculino' AND \r\n",
                "    tp_situacao_folha <> 'Transferido' AND\r\n",
                "    (\r\n",
                "        dt_demissao_funcionario > DATEFROMPARTS(2022, 12, 31) AND\r\n",
                "        dt_demissao_funcionario < DATEFROMPARTS(2024, 01, 01)\r\n",
                "        OR dt_demissao_funcionario IS NULL\r\n",
                "    )  AND\r\n",
                "    dt_admissao_funcionarios < DATEFROMPARTS(2024, 01, 01)\r\n",
                "    \r\n",
                "GROUP BY vl_idade_funcionarios\r\n",
                ")\r\n",
                "\r\n",
                "SELECT faixa, SUM(contagem) FROM X\r\n",
                "GROUP BY faixa\r\n",
                "ORDER BY SUM(contagem) DESC;"
            ],
            "metadata": {
                "language": "sql",
                "azdata_cell_guid": "ed7f4bcf-f3d9-47ce-84c9-87d5df7512cb",
                "tags": []
            },
            "outputs": [
                {
                    "output_type": "display_data",
                    "data": {
                        "text/html": "Commands completed successfully."
                    },
                    "metadata": {}
                },
                {
                    "output_type": "display_data",
                    "data": {
                        "text/html": "(6 rows affected)"
                    },
                    "metadata": {}
                },
                {
                    "output_type": "display_data",
                    "data": {
                        "text/html": "Total execution time: 00:00:02.324"
                    },
                    "metadata": {}
                },
                {
                    "output_type": "execute_result",
                    "execution_count": 52,
                    "data": {
                        "application/vnd.dataresource+json": {
                            "schema": {
                                "fields": [
                                    {
                                        "name": "faixa"
                                    },
                                    {
                                        "name": "(No column name)"
                                    }
                                ]
                            },
                            "data": [
                                {
                                    "faixa": "35-44",
                                    "(No column name)": "5359"
                                },
                                {
                                    "faixa": "25-34",
                                    "(No column name)": "4349"
                                },
                                {
                                    "faixa": "45-54",
                                    "(No column name)": "3017"
                                },
                                {
                                    "faixa": "55+",
                                    "(No column name)": "1448"
                                },
                                {
                                    "faixa": "19-24",
                                    "(No column name)": "1387"
                                },
                                {
                                    "faixa": "14-18",
                                    "(No column name)": "3"
                                }
                            ]
                        },
                        "text/html": "<table><tr><th>faixa</th><th>(No column name)</th></tr><tr><td>35-44</td><td>5359</td></tr><tr><td>25-34</td><td>4349</td></tr><tr><td>45-54</td><td>3017</td></tr><tr><td>55+</td><td>1448</td></tr><tr><td>19-24</td><td>1387</td></tr><tr><td>14-18</td><td>3</td></tr></table>"
                    },
                    "metadata": {}
                }
            ],
            "execution_count": 52
        },
        {
            "cell_type": "markdown",
            "source": [
                "Mulheres por escolaridade 2021"
            ],
            "metadata": {
                "language": "sql",
                "azdata_cell_guid": "d6ca880d-db18-4aa3-9841-5265993ad298"
            },
            "attachments": {}
        },
        {
            "cell_type": "code",
            "source": [
                "USE bi_rip_refinedZone\r\n",
                "GO\r\n",
                "\r\n",
                "SELECT\r\n",
                "    ds_escolaridade_funcionarios,\r\n",
                "    tp_sexo_funcionario,\r\n",
                "    COUNT(1) AS contagem\r\n",
                "FROM dpp.vw_dim_funcionarios\r\n",
                "WHERE \r\n",
                "    tp_sexo_funcionario = 'Feminino' AND \r\n",
                "    tp_situacao_folha <> 'Transferido' AND\r\n",
                "    (\r\n",
                "        dt_demissao_funcionario > DATEFROMPARTS(2020, 12, 31) AND\r\n",
                "        dt_demissao_funcionario < DATEFROMPARTS(2022, 01, 01)\r\n",
                "        OR dt_demissao_funcionario IS NULL\r\n",
                "    )  AND\r\n",
                "    dt_admissao_funcionarios < DATEFROMPARTS(2022, 01, 01)\r\n",
                "    \r\n",
                "GROUP BY ds_escolaridade_funcionarios, tp_sexo_funcionario\r\n",
                "ORDER BY COUNT(1) DESC;"
            ],
            "metadata": {
                "language": "sql",
                "azdata_cell_guid": "e975aea3-e79a-4b0f-b03a-71d0c144aa94"
            },
            "outputs": [
                {
                    "output_type": "display_data",
                    "data": {
                        "text/html": "Commands completed successfully."
                    },
                    "metadata": {}
                },
                {
                    "output_type": "display_data",
                    "data": {
                        "text/html": "(9 rows affected)"
                    },
                    "metadata": {}
                },
                {
                    "output_type": "display_data",
                    "data": {
                        "text/html": "Total execution time: 00:00:01.342"
                    },
                    "metadata": {}
                },
                {
                    "output_type": "execute_result",
                    "execution_count": 53,
                    "data": {
                        "application/vnd.dataresource+json": {
                            "schema": {
                                "fields": [
                                    {
                                        "name": "ds_escolaridade_funcionarios"
                                    },
                                    {
                                        "name": "tp_sexo_funcionario"
                                    },
                                    {
                                        "name": "contagem"
                                    }
                                ]
                            },
                            "data": [
                                {
                                    "ds_escolaridade_funcionarios": "SEGUNDO GRAU (COLEGIAL) COMPLETO",
                                    "tp_sexo_funcionario": "Feminino",
                                    "contagem": "512"
                                },
                                {
                                    "ds_escolaridade_funcionarios": "SUPERIOR COMPLETO",
                                    "tp_sexo_funcionario": "Feminino",
                                    "contagem": "137"
                                },
                                {
                                    "ds_escolaridade_funcionarios": "PRIMEIRO GRAU (GINASIO) COMPLETO",
                                    "tp_sexo_funcionario": "Feminino",
                                    "contagem": "35"
                                },
                                {
                                    "ds_escolaridade_funcionarios": "SUPERIOR INCOMPLETO",
                                    "tp_sexo_funcionario": "Feminino",
                                    "contagem": "35"
                                },
                                {
                                    "ds_escolaridade_funcionarios": "PRIMEIRO GRAU (GINASIO) INCOMPLETO",
                                    "tp_sexo_funcionario": "Feminino",
                                    "contagem": "25"
                                },
                                {
                                    "ds_escolaridade_funcionarios": "SEGUNDO GRAU (COLEGIAL) INCOMPLETO",
                                    "tp_sexo_funcionario": "Feminino",
                                    "contagem": "20"
                                },
                                {
                                    "ds_escolaridade_funcionarios": "OUTRO",
                                    "tp_sexo_funcionario": "Feminino",
                                    "contagem": "17"
                                },
                                {
                                    "ds_escolaridade_funcionarios": "POS-GRADUACAO/ESPECIALIZACAO",
                                    "tp_sexo_funcionario": "Feminino",
                                    "contagem": "16"
                                },
                                {
                                    "ds_escolaridade_funcionarios": "MESTRADO COMPLETO",
                                    "tp_sexo_funcionario": "Feminino",
                                    "contagem": "1"
                                }
                            ]
                        },
                        "text/html": "<table><tr><th>ds_escolaridade_funcionarios</th><th>tp_sexo_funcionario</th><th>contagem</th></tr><tr><td>SEGUNDO GRAU (COLEGIAL) COMPLETO</td><td>Feminino</td><td>512</td></tr><tr><td>SUPERIOR COMPLETO</td><td>Feminino</td><td>137</td></tr><tr><td>PRIMEIRO GRAU (GINASIO) COMPLETO</td><td>Feminino</td><td>35</td></tr><tr><td>SUPERIOR INCOMPLETO</td><td>Feminino</td><td>35</td></tr><tr><td>PRIMEIRO GRAU (GINASIO) INCOMPLETO</td><td>Feminino</td><td>25</td></tr><tr><td>SEGUNDO GRAU (COLEGIAL) INCOMPLETO</td><td>Feminino</td><td>20</td></tr><tr><td>OUTRO</td><td>Feminino</td><td>17</td></tr><tr><td>POS-GRADUACAO/ESPECIALIZACAO</td><td>Feminino</td><td>16</td></tr><tr><td>MESTRADO COMPLETO</td><td>Feminino</td><td>1</td></tr></table>"
                    },
                    "metadata": {}
                }
            ],
            "execution_count": 53
        },
        {
            "cell_type": "markdown",
            "source": [
                "Mulheres por escolaridade 2022"
            ],
            "metadata": {
                "language": "sql",
                "azdata_cell_guid": "a15cb70d-c627-461d-b82c-97c3c014a18a"
            },
            "attachments": {}
        },
        {
            "cell_type": "code",
            "source": [
                "USE bi_rip_refinedZone\r\n",
                "GO\r\n",
                "\r\n",
                "SELECT\r\n",
                "    ds_escolaridade_funcionarios,\r\n",
                "    tp_sexo_funcionario,\r\n",
                "    COUNT(1) AS contagem\r\n",
                "FROM dpp.vw_dim_funcionarios\r\n",
                "WHERE \r\n",
                "    tp_sexo_funcionario = 'Feminino' AND \r\n",
                "    tp_situacao_folha <> 'Transferido' AND\r\n",
                "    (\r\n",
                "        dt_demissao_funcionario > DATEFROMPARTS(2021, 12, 31) AND\r\n",
                "        dt_demissao_funcionario < DATEFROMPARTS(2023, 01, 01)\r\n",
                "        OR dt_demissao_funcionario IS NULL\r\n",
                "    )  AND\r\n",
                "    dt_admissao_funcionarios < DATEFROMPARTS(2023, 01, 01)\r\n",
                "    \r\n",
                "GROUP BY ds_escolaridade_funcionarios, tp_sexo_funcionario\r\n",
                "ORDER BY COUNT(1) DESC;"
            ],
            "metadata": {
                "language": "sql",
                "azdata_cell_guid": "25fb890c-0b49-4cea-bbea-77c35b61b256"
            },
            "outputs": [
                {
                    "output_type": "display_data",
                    "data": {
                        "text/html": "Commands completed successfully."
                    },
                    "metadata": {}
                },
                {
                    "output_type": "display_data",
                    "data": {
                        "text/html": "(9 rows affected)"
                    },
                    "metadata": {}
                },
                {
                    "output_type": "display_data",
                    "data": {
                        "text/html": "Total execution time: 00:00:00.187"
                    },
                    "metadata": {}
                },
                {
                    "output_type": "execute_result",
                    "execution_count": 54,
                    "data": {
                        "application/vnd.dataresource+json": {
                            "schema": {
                                "fields": [
                                    {
                                        "name": "ds_escolaridade_funcionarios"
                                    },
                                    {
                                        "name": "tp_sexo_funcionario"
                                    },
                                    {
                                        "name": "contagem"
                                    }
                                ]
                            },
                            "data": [
                                {
                                    "ds_escolaridade_funcionarios": "SEGUNDO GRAU (COLEGIAL) COMPLETO",
                                    "tp_sexo_funcionario": "Feminino",
                                    "contagem": "651"
                                },
                                {
                                    "ds_escolaridade_funcionarios": "SUPERIOR COMPLETO",
                                    "tp_sexo_funcionario": "Feminino",
                                    "contagem": "152"
                                },
                                {
                                    "ds_escolaridade_funcionarios": "PRIMEIRO GRAU (GINASIO) COMPLETO",
                                    "tp_sexo_funcionario": "Feminino",
                                    "contagem": "67"
                                },
                                {
                                    "ds_escolaridade_funcionarios": "SEGUNDO GRAU (COLEGIAL) INCOMPLETO",
                                    "tp_sexo_funcionario": "Feminino",
                                    "contagem": "39"
                                },
                                {
                                    "ds_escolaridade_funcionarios": "SUPERIOR INCOMPLETO",
                                    "tp_sexo_funcionario": "Feminino",
                                    "contagem": "37"
                                },
                                {
                                    "ds_escolaridade_funcionarios": "PRIMEIRO GRAU (GINASIO) INCOMPLETO",
                                    "tp_sexo_funcionario": "Feminino",
                                    "contagem": "36"
                                },
                                {
                                    "ds_escolaridade_funcionarios": "OUTRO",
                                    "tp_sexo_funcionario": "Feminino",
                                    "contagem": "23"
                                },
                                {
                                    "ds_escolaridade_funcionarios": "POS-GRADUACAO/ESPECIALIZACAO",
                                    "tp_sexo_funcionario": "Feminino",
                                    "contagem": "15"
                                },
                                {
                                    "ds_escolaridade_funcionarios": "MESTRADO COMPLETO",
                                    "tp_sexo_funcionario": "Feminino",
                                    "contagem": "1"
                                }
                            ]
                        },
                        "text/html": "<table><tr><th>ds_escolaridade_funcionarios</th><th>tp_sexo_funcionario</th><th>contagem</th></tr><tr><td>SEGUNDO GRAU (COLEGIAL) COMPLETO</td><td>Feminino</td><td>651</td></tr><tr><td>SUPERIOR COMPLETO</td><td>Feminino</td><td>152</td></tr><tr><td>PRIMEIRO GRAU (GINASIO) COMPLETO</td><td>Feminino</td><td>67</td></tr><tr><td>SEGUNDO GRAU (COLEGIAL) INCOMPLETO</td><td>Feminino</td><td>39</td></tr><tr><td>SUPERIOR INCOMPLETO</td><td>Feminino</td><td>37</td></tr><tr><td>PRIMEIRO GRAU (GINASIO) INCOMPLETO</td><td>Feminino</td><td>36</td></tr><tr><td>OUTRO</td><td>Feminino</td><td>23</td></tr><tr><td>POS-GRADUACAO/ESPECIALIZACAO</td><td>Feminino</td><td>15</td></tr><tr><td>MESTRADO COMPLETO</td><td>Feminino</td><td>1</td></tr></table>"
                    },
                    "metadata": {}
                }
            ],
            "execution_count": 54
        },
        {
            "cell_type": "markdown",
            "source": [
                "Mulheres por escolaridade 2023"
            ],
            "metadata": {
                "language": "sql",
                "azdata_cell_guid": "78da6d68-99d9-4c12-8d4c-2cbcd334cec8"
            },
            "attachments": {}
        },
        {
            "cell_type": "code",
            "source": [
                "USE bi_rip_refinedZone\r\n",
                "GO\r\n",
                "\r\n",
                "SELECT\r\n",
                "    ds_escolaridade_funcionarios,\r\n",
                "    tp_sexo_funcionario,\r\n",
                "    COUNT(1) AS contagem\r\n",
                "FROM dpp.vw_dim_funcionarios\r\n",
                "WHERE \r\n",
                "    tp_sexo_funcionario = 'Feminino' AND \r\n",
                "    tp_situacao_folha <> 'Transferido' AND\r\n",
                "    (\r\n",
                "        dt_demissao_funcionario > DATEFROMPARTS(2022, 12, 31) AND\r\n",
                "        dt_demissao_funcionario < DATEFROMPARTS(2024, 01, 01)\r\n",
                "        OR dt_demissao_funcionario IS NULL\r\n",
                "    )  AND\r\n",
                "    dt_admissao_funcionarios < DATEFROMPARTS(2024, 01, 01)\r\n",
                "    \r\n",
                "GROUP BY ds_escolaridade_funcionarios, tp_sexo_funcionario\r\n",
                "ORDER BY COUNT(1) DESC;"
            ],
            "metadata": {
                "language": "sql",
                "azdata_cell_guid": "bfbe567a-8bec-46b7-93ba-b5cd3a88dc6e"
            },
            "outputs": [
                {
                    "output_type": "display_data",
                    "data": {
                        "text/html": "Commands completed successfully."
                    },
                    "metadata": {}
                },
                {
                    "output_type": "display_data",
                    "data": {
                        "text/html": "(10 rows affected)"
                    },
                    "metadata": {}
                },
                {
                    "output_type": "display_data",
                    "data": {
                        "text/html": "Total execution time: 00:00:00.182"
                    },
                    "metadata": {}
                },
                {
                    "output_type": "execute_result",
                    "execution_count": 55,
                    "data": {
                        "application/vnd.dataresource+json": {
                            "schema": {
                                "fields": [
                                    {
                                        "name": "ds_escolaridade_funcionarios"
                                    },
                                    {
                                        "name": "tp_sexo_funcionario"
                                    },
                                    {
                                        "name": "contagem"
                                    }
                                ]
                            },
                            "data": [
                                {
                                    "ds_escolaridade_funcionarios": "SEGUNDO GRAU (COLEGIAL) COMPLETO",
                                    "tp_sexo_funcionario": "Feminino",
                                    "contagem": "964"
                                },
                                {
                                    "ds_escolaridade_funcionarios": "SUPERIOR COMPLETO",
                                    "tp_sexo_funcionario": "Feminino",
                                    "contagem": "186"
                                },
                                {
                                    "ds_escolaridade_funcionarios": "PRIMEIRO GRAU (GINASIO) COMPLETO",
                                    "tp_sexo_funcionario": "Feminino",
                                    "contagem": "69"
                                },
                                {
                                    "ds_escolaridade_funcionarios": "SEGUNDO GRAU (COLEGIAL) INCOMPLETO",
                                    "tp_sexo_funcionario": "Feminino",
                                    "contagem": "46"
                                },
                                {
                                    "ds_escolaridade_funcionarios": "SUPERIOR INCOMPLETO",
                                    "tp_sexo_funcionario": "Feminino",
                                    "contagem": "45"
                                },
                                {
                                    "ds_escolaridade_funcionarios": "PRIMEIRO GRAU (GINASIO) INCOMPLETO",
                                    "tp_sexo_funcionario": "Feminino",
                                    "contagem": "24"
                                },
                                {
                                    "ds_escolaridade_funcionarios": "OUTRO",
                                    "tp_sexo_funcionario": "Feminino",
                                    "contagem": "24"
                                },
                                {
                                    "ds_escolaridade_funcionarios": "POS-GRADUACAO/ESPECIALIZACAO",
                                    "tp_sexo_funcionario": "Feminino",
                                    "contagem": "16"
                                },
                                {
                                    "ds_escolaridade_funcionarios": "DOUTORADO COMPLETO",
                                    "tp_sexo_funcionario": "Feminino",
                                    "contagem": "1"
                                },
                                {
                                    "ds_escolaridade_funcionarios": "MESTRADO COMPLETO",
                                    "tp_sexo_funcionario": "Feminino",
                                    "contagem": "1"
                                }
                            ]
                        },
                        "text/html": "<table><tr><th>ds_escolaridade_funcionarios</th><th>tp_sexo_funcionario</th><th>contagem</th></tr><tr><td>SEGUNDO GRAU (COLEGIAL) COMPLETO</td><td>Feminino</td><td>964</td></tr><tr><td>SUPERIOR COMPLETO</td><td>Feminino</td><td>186</td></tr><tr><td>PRIMEIRO GRAU (GINASIO) COMPLETO</td><td>Feminino</td><td>69</td></tr><tr><td>SEGUNDO GRAU (COLEGIAL) INCOMPLETO</td><td>Feminino</td><td>46</td></tr><tr><td>SUPERIOR INCOMPLETO</td><td>Feminino</td><td>45</td></tr><tr><td>PRIMEIRO GRAU (GINASIO) INCOMPLETO</td><td>Feminino</td><td>24</td></tr><tr><td>OUTRO</td><td>Feminino</td><td>24</td></tr><tr><td>POS-GRADUACAO/ESPECIALIZACAO</td><td>Feminino</td><td>16</td></tr><tr><td>DOUTORADO COMPLETO</td><td>Feminino</td><td>1</td></tr><tr><td>MESTRADO COMPLETO</td><td>Feminino</td><td>1</td></tr></table>"
                    },
                    "metadata": {}
                }
            ],
            "execution_count": 55
        },
        {
            "cell_type": "markdown",
            "source": [
                "Numero absoluto de empregados 31 de dezembro 2021"
            ],
            "metadata": {
                "language": "sql",
                "azdata_cell_guid": "469a7087-d1bb-4a60-b037-fd9289ce9575"
            },
            "attachments": {}
        },
        {
            "cell_type": "code",
            "source": [
                "USE bi_rip_refinedZone\r\n",
                "GO\r\n",
                "\r\n",
                "SELECT\r\n",
                "    COUNT(1)\r\n",
                "FROM dpp.vw_dim_funcionarios\r\n",
                "WHERE\r\n",
                "    (\r\n",
                "    dt_demissao_funcionario > DATEFROMPARTS(2021, 12, 31) OR\r\n",
                "    dt_demissao_funcionario IS NULL\r\n",
                "    ) AND\r\n",
                "    dt_admissao_funcionarios < DATEFROMPARTS(2022, 01, 01) AND\r\n",
                "    tp_situacao_folha <> 'Transferido'"
            ],
            "metadata": {
                "language": "sql",
                "azdata_cell_guid": "642c5f87-d3b4-4f3f-89fe-d8ec315e9a37"
            },
            "outputs": [
                {
                    "output_type": "display_data",
                    "data": {
                        "text/html": "Commands completed successfully."
                    },
                    "metadata": {}
                },
                {
                    "output_type": "display_data",
                    "data": {
                        "text/html": "(1 row affected)"
                    },
                    "metadata": {}
                },
                {
                    "output_type": "display_data",
                    "data": {
                        "text/html": "Total execution time: 00:00:00.279"
                    },
                    "metadata": {}
                },
                {
                    "output_type": "execute_result",
                    "execution_count": 8,
                    "data": {
                        "application/vnd.dataresource+json": {
                            "schema": {
                                "fields": [
                                    {
                                        "name": "(No column name)"
                                    }
                                ]
                            },
                            "data": [
                                {
                                    "(No column name)": "10044"
                                }
                            ]
                        },
                        "text/html": "<table><tr><th>(No column name)</th></tr><tr><td>10044</td></tr></table>"
                    },
                    "metadata": {}
                }
            ],
            "execution_count": 8
        },
        {
            "cell_type": "markdown",
            "source": [
                "Numero absoluto de empregados 31 de dezembro 2022"
            ],
            "metadata": {
                "language": "sql",
                "azdata_cell_guid": "2a5ed0e8-7a78-4a9f-8295-dc1d06319c55"
            },
            "attachments": {}
        },
        {
            "cell_type": "code",
            "source": [
                "USE bi_rip_refinedZone\r\n",
                "GO\r\n",
                "\r\n",
                "SELECT\r\n",
                "    COUNT(1)\r\n",
                "FROM dpp.vw_dim_funcionarios\r\n",
                "WHERE\r\n",
                "    (\r\n",
                "    dt_demissao_funcionario > DATEFROMPARTS(2022, 12, 31) OR\r\n",
                "    dt_demissao_funcionario IS NULL\r\n",
                "    ) AND\r\n",
                "    dt_admissao_funcionarios < DATEFROMPARTS(2023, 01, 01) AND\r\n",
                "    tp_situacao_folha <> 'Transferido'"
            ],
            "metadata": {
                "language": "sql",
                "azdata_cell_guid": "8dd04eb1-ba07-47f2-b895-3ecef8b9ea77"
            },
            "outputs": [
                {
                    "output_type": "display_data",
                    "data": {
                        "text/html": "Commands completed successfully."
                    },
                    "metadata": {}
                },
                {
                    "output_type": "display_data",
                    "data": {
                        "text/html": "(1 row affected)"
                    },
                    "metadata": {}
                },
                {
                    "output_type": "display_data",
                    "data": {
                        "text/html": "Total execution time: 00:00:01.194"
                    },
                    "metadata": {}
                },
                {
                    "output_type": "execute_result",
                    "execution_count": 17,
                    "data": {
                        "application/vnd.dataresource+json": {
                            "schema": {
                                "fields": [
                                    {
                                        "name": "cd_filial_funcionarios"
                                    },
                                    {
                                        "name": "nm_funcionario_funcionarios"
                                    },
                                    {
                                        "name": "cd_matricula_funcionarios"
                                    },
                                    {
                                        "name": "ds_escolaridade_funcionarios"
                                    },
                                    {
                                        "name": "ds_estadoCivil_funcionarios"
                                    },
                                    {
                                        "name": "tp_defic_funcionarios"
                                    },
                                    {
                                        "name": "ds_faixaEtaria_funcionarios"
                                    },
                                    {
                                        "name": "vl_salario_funcionarios"
                                    },
                                    {
                                        "name": "vl_idade_funcionarios"
                                    },
                                    {
                                        "name": "dt_admissao_funcionarios"
                                    },
                                    {
                                        "name": "dt_demissao_funcionario"
                                    },
                                    {
                                        "name": "cd_centroCusto_funcionarios"
                                    },
                                    {
                                        "name": "cd_funcao_funcionarios"
                                    },
                                    {
                                        "name": "ds_funcao_funcionarios"
                                    },
                                    {
                                        "name": "tp_maoObra_funcionarios"
                                    },
                                    {
                                        "name": "tp_sexo_funcionario"
                                    },
                                    {
                                        "name": "cd_filialMatricula_funcionarios"
                                    },
                                    {
                                        "name": "tp_situacao_folha"
                                    },
                                    {
                                        "name": "tp_raca_funcionario"
                                    }
                                ]
                            },
                            "data": [
                                {
                                    "cd_filial_funcionarios": "A3",
                                    "nm_funcionario_funcionarios": "LEONARDO MACHADO BAPTISTA     ",
                                    "cd_matricula_funcionarios": "116207",
                                    "ds_escolaridade_funcionarios": "SUPERIOR COMPLETO",
                                    "ds_estadoCivil_funcionarios": "SOLTEIRO(A)",
                                    "tp_defic_funcionarios": "Não Portador",
                                    "ds_faixaEtaria_funcionarios": "20-30",
                                    "vl_salario_funcionarios": "3361,22",
                                    "vl_idade_funcionarios": "24",
                                    "dt_admissao_funcionarios": "2021-02-03",
                                    "dt_demissao_funcionario": "NULL",
                                    "cd_centroCusto_funcionarios": "99917059 ",
                                    "cd_funcao_funcionarios": "01731",
                                    "ds_funcao_funcionarios": "ANALISTA DE DADOS JR",
                                    "tp_maoObra_funcionarios": "Indireta",
                                    "tp_sexo_funcionario": "Masculino",
                                    "cd_filialMatricula_funcionarios": "A3116207",
                                    "tp_situacao_folha": "Normal",
                                    "tp_raca_funcionario": "Branca"
                                }
                            ]
                        },
                        "text/html": "<table><tr><th>cd_filial_funcionarios</th><th>nm_funcionario_funcionarios</th><th>cd_matricula_funcionarios</th><th>ds_escolaridade_funcionarios</th><th>ds_estadoCivil_funcionarios</th><th>tp_defic_funcionarios</th><th>ds_faixaEtaria_funcionarios</th><th>vl_salario_funcionarios</th><th>vl_idade_funcionarios</th><th>dt_admissao_funcionarios</th><th>dt_demissao_funcionario</th><th>cd_centroCusto_funcionarios</th><th>cd_funcao_funcionarios</th><th>ds_funcao_funcionarios</th><th>tp_maoObra_funcionarios</th><th>tp_sexo_funcionario</th><th>cd_filialMatricula_funcionarios</th><th>tp_situacao_folha</th><th>tp_raca_funcionario</th></tr><tr><td>A3</td><td>LEONARDO MACHADO BAPTISTA     </td><td>116207</td><td>SUPERIOR COMPLETO</td><td>SOLTEIRO(A)</td><td>Não Portador</td><td>20-30</td><td>3361,22</td><td>24</td><td>2021-02-03</td><td>NULL</td><td>99917059 </td><td>01731</td><td>ANALISTA DE DADOS JR</td><td>Indireta</td><td>Masculino</td><td>A3116207</td><td>Normal</td><td>Branca</td></tr></table>"
                    },
                    "metadata": {}
                }
            ],
            "execution_count": 17
        },
        {
            "cell_type": "markdown",
            "source": [
                "Pessoas com deficiência (quadro geral): Percentual de empregados com deficiência contratados em relação ao quadro geral em 31 de  dezembro de 2021. --\\> 2022"
            ],
            "metadata": {
                "language": "sql",
                "azdata_cell_guid": "6b22c04e-387b-4c33-aecb-dd527b3dfa40"
            },
            "attachments": {}
        },
        {
            "cell_type": "code",
            "source": [
                "USE bi_rip_refinedZone\r\n",
                "GO\r\n",
                "\r\n",
                "WITH QUADRO AS (\r\n",
                "SELECT\r\n",
                "    COUNT(1) AS x\r\n",
                "FROM dpp.vw_dim_funcionarios\r\n",
                "WHERE\r\n",
                "    (\r\n",
                "    dt_demissao_funcionario > DATEFROMPARTS(2021, 12, 31) OR\r\n",
                "    dt_demissao_funcionario IS NULL\r\n",
                "    ) AND\r\n",
                "    dt_admissao_funcionarios < DATEFROMPARTS(2022, 01, 01) AND\r\n",
                "    tp_situacao_folha <> 'Transferido'\r\n",
                "),\r\n",
                "\r\n",
                "DEFIC AS (\r\n",
                "    SELECT\r\n",
                "        COUNT(1) AS y\r\n",
                "    FROM dpp.vw_dim_funcionarios\r\n",
                "    WHERE\r\n",
                "        dt_admissao_funcionarios > DATEFROMPARTS(2021, 12, 31) AND\r\n",
                "        dt_admissao_funcionarios < DATEFROMPARTS(2023, 01, 01) AND\r\n",
                "        tp_defic_funcionarios NOT IN ('Não Portador', 'N/A')\r\n",
                ")\r\n",
                "\r\n",
                "\r\n",
                "\r\n",
                "SELECT\r\n",
                "    CAST((SELECT y FROM DEFIC) AS FLOAT) / CAST((SELECT x FROM QUADRO) AS FLOAT) * 100\r\n",
                ""
            ],
            "metadata": {
                "language": "sql",
                "azdata_cell_guid": "3d7ef277-5baf-412c-9d6a-b97640f14e56"
            },
            "outputs": [
                {
                    "output_type": "display_data",
                    "data": {
                        "text/html": "Commands completed successfully."
                    },
                    "metadata": {}
                },
                {
                    "output_type": "display_data",
                    "data": {
                        "text/html": "(1 row affected)"
                    },
                    "metadata": {}
                },
                {
                    "output_type": "display_data",
                    "data": {
                        "text/html": "Total execution time: 00:00:00.089"
                    },
                    "metadata": {}
                },
                {
                    "output_type": "execute_result",
                    "execution_count": 22,
                    "data": {
                        "application/vnd.dataresource+json": {
                            "schema": {
                                "fields": [
                                    {
                                        "name": "(No column name)"
                                    }
                                ]
                            },
                            "data": [
                                {
                                    "(No column name)": "0,22899243329350857"
                                }
                            ]
                        },
                        "text/html": "<table><tr><th>(No column name)</th></tr><tr><td>0,22899243329350857</td></tr></table>"
                    },
                    "metadata": {}
                }
            ],
            "execution_count": 22
        },
        {
            "cell_type": "markdown",
            "source": [
                "Pessoas com deficiência (quadro geral): Percentual de empregados com deficiência contratados em relação ao quadro geral em 31 de  dezembro de 2021. --\\> 2023"
            ],
            "metadata": {
                "language": "sql",
                "azdata_cell_guid": "816cf381-14a5-4f13-87fb-30c483d727f9"
            },
            "attachments": {}
        },
        {
            "cell_type": "code",
            "source": [
                "USE bi_rip_refinedZone\r\n",
                "GO\r\n",
                "\r\n",
                "WITH QUADRO AS (\r\n",
                "SELECT\r\n",
                "    COUNT(1) AS x\r\n",
                "FROM dpp.vw_dim_funcionarios\r\n",
                "WHERE\r\n",
                "    (\r\n",
                "    dt_demissao_funcionario > DATEFROMPARTS(2021, 12, 31) OR\r\n",
                "    dt_demissao_funcionario IS NULL\r\n",
                "    ) AND\r\n",
                "    dt_admissao_funcionarios < DATEFROMPARTS(2022, 01, 01) AND\r\n",
                "    tp_situacao_folha <> 'Transferido'\r\n",
                "),\r\n",
                "\r\n",
                "DEFIC AS (\r\n",
                "    SELECT\r\n",
                "        COUNT(1) AS y\r\n",
                "    FROM dpp.vw_dim_funcionarios\r\n",
                "    WHERE\r\n",
                "        dt_admissao_funcionarios > DATEFROMPARTS(2022, 12, 31) AND\r\n",
                "        dt_admissao_funcionarios < DATEFROMPARTS(2024, 01, 01) AND\r\n",
                "        tp_defic_funcionarios NOT IN ('Não Portador', 'N/A')\r\n",
                ")\r\n",
                "\r\n",
                "\r\n",
                "\r\n",
                "SELECT\r\n",
                "    CAST((SELECT y FROM DEFIC) AS FLOAT) / CAST((SELECT x FROM QUADRO) AS FLOAT) * 100\r\n",
                ""
            ],
            "metadata": {
                "language": "sql",
                "azdata_cell_guid": "3d66c765-20c7-4ad9-a5ab-f90fcb088691"
            },
            "outputs": [
                {
                    "output_type": "display_data",
                    "data": {
                        "text/html": "Commands completed successfully."
                    },
                    "metadata": {}
                },
                {
                    "output_type": "display_data",
                    "data": {
                        "text/html": "(1 row affected)"
                    },
                    "metadata": {}
                },
                {
                    "output_type": "display_data",
                    "data": {
                        "text/html": "Total execution time: 00:00:00.108"
                    },
                    "metadata": {}
                },
                {
                    "output_type": "execute_result",
                    "execution_count": 23,
                    "data": {
                        "application/vnd.dataresource+json": {
                            "schema": {
                                "fields": [
                                    {
                                        "name": "(No column name)"
                                    }
                                ]
                            },
                            "data": [
                                {
                                    "(No column name)": "0,3783353245718837"
                                }
                            ]
                        },
                        "text/html": "<table><tr><th>(No column name)</th></tr><tr><td>0,3783353245718837</td></tr></table>"
                    },
                    "metadata": {}
                }
            ],
            "execution_count": 23
        },
        {
            "cell_type": "markdown",
            "source": [
                "Pessoas com deficiência (quadro geral): Percentual de empregados com deficiência contratados em relação ao quadro geral em 31 de dezembro de 2022"
            ],
            "metadata": {
                "language": "sql",
                "azdata_cell_guid": "e8cc5298-0e42-4de7-9654-463d488c91b2"
            },
            "attachments": {}
        },
        {
            "cell_type": "code",
            "source": [
                "USE bi_rip_refinedZone\r\n",
                "GO\r\n",
                "\r\n",
                "WITH QUADRO AS (\r\n",
                "SELECT\r\n",
                "    COUNT(1) AS x\r\n",
                "FROM dpp.vw_dim_funcionarios\r\n",
                "WHERE\r\n",
                "    (\r\n",
                "    dt_demissao_funcionario > DATEFROMPARTS(2022, 12, 31) OR\r\n",
                "    dt_demissao_funcionario IS NULL\r\n",
                "    ) AND\r\n",
                "    dt_admissao_funcionarios < DATEFROMPARTS(2023, 01, 01) AND\r\n",
                "    tp_situacao_folha <> 'Transferido'\r\n",
                "),\r\n",
                "\r\n",
                "DEFIC AS (\r\n",
                "    SELECT\r\n",
                "        COUNT(1) AS y\r\n",
                "    FROM dpp.vw_dim_funcionarios\r\n",
                "    WHERE\r\n",
                "        dt_admissao_funcionarios > DATEFROMPARTS(2022, 12, 31) AND\r\n",
                "        dt_admissao_funcionarios < DATEFROMPARTS(2024, 01, 01) AND\r\n",
                "        tp_defic_funcionarios NOT IN ('Não Portador', 'N/A')\r\n",
                ")\r\n",
                "\r\n",
                "\r\n",
                "\r\n",
                "SELECT\r\n",
                "    CAST((SELECT y FROM DEFIC) AS FLOAT) / CAST((SELECT x FROM QUADRO) AS FLOAT) * 100\r\n",
                ""
            ],
            "metadata": {
                "language": "sql",
                "azdata_cell_guid": "81463485-9617-49b4-89d3-dc11ad7ae4f9"
            },
            "outputs": [
                {
                    "output_type": "display_data",
                    "data": {
                        "text/html": "Commands completed successfully."
                    },
                    "metadata": {}
                },
                {
                    "output_type": "display_data",
                    "data": {
                        "text/html": "(1 row affected)"
                    },
                    "metadata": {}
                },
                {
                    "output_type": "display_data",
                    "data": {
                        "text/html": "Total execution time: 00:00:00.096"
                    },
                    "metadata": {}
                },
                {
                    "output_type": "execute_result",
                    "execution_count": 24,
                    "data": {
                        "application/vnd.dataresource+json": {
                            "schema": {
                                "fields": [
                                    {
                                        "name": "(No column name)"
                                    }
                                ]
                            },
                            "data": [
                                {
                                    "(No column name)": "0,41703248463564535"
                                }
                            ]
                        },
                        "text/html": "<table><tr><th>(No column name)</th></tr><tr><td>0,41703248463564535</td></tr></table>"
                    },
                    "metadata": {}
                }
            ],
            "execution_count": 24
        },
        {
            "cell_type": "markdown",
            "source": [
                "Mulheres (quadro geral): Percentual de mulheres no quadro geral de empregados em 31 de  dezembro de 2022"
            ],
            "metadata": {
                "language": "sql",
                "azdata_cell_guid": "a3146004-a60e-4aec-beb9-f4e597f20a99"
            },
            "attachments": {}
        },
        {
            "cell_type": "code",
            "source": [
                "USE bi_rip_refinedZone\r\n",
                "GO\r\n",
                "\r\n",
                "WITH QUADRO AS (\r\n",
                "SELECT\r\n",
                "    COUNT(1) AS x\r\n",
                "FROM dpp.vw_dim_funcionarios\r\n",
                "WHERE\r\n",
                "    (\r\n",
                "    dt_demissao_funcionario > DATEFROMPARTS(2022, 12, 31) OR\r\n",
                "    dt_demissao_funcionario IS NULL\r\n",
                "    ) AND\r\n",
                "    dt_admissao_funcionarios < DATEFROMPARTS(2023, 01, 01) AND\r\n",
                "    tp_situacao_folha <> 'Transferido'\r\n",
                "),\r\n",
                "\r\n",
                "MULHERES AS (\r\n",
                "    SELECT\r\n",
                "    COUNT(1) AS y\r\n",
                "FROM dpp.vw_dim_funcionarios\r\n",
                "WHERE\r\n",
                "    (\r\n",
                "    dt_demissao_funcionario > DATEFROMPARTS(2022, 12, 31) OR\r\n",
                "    dt_demissao_funcionario IS NULL\r\n",
                "    ) AND\r\n",
                "    dt_admissao_funcionarios < DATEFROMPARTS(2023, 01, 01) AND\r\n",
                "    tp_situacao_folha <> 'Transferido' AND tp_sexo_funcionario = 'Feminino'\r\n",
                ")\r\n",
                "\r\n",
                "SELECT\r\n",
                "    CAST((SELECT y FROM MULHERES) AS FLOAT) / CAST((SELECT x FROM QUADRO) AS FLOAT) * 100"
            ],
            "metadata": {
                "language": "sql",
                "azdata_cell_guid": "9c21db22-d989-4977-8f01-2b6f67b41053"
            },
            "outputs": [
                {
                    "output_type": "display_data",
                    "data": {
                        "text/html": "Commands completed successfully."
                    },
                    "metadata": {}
                },
                {
                    "output_type": "display_data",
                    "data": {
                        "text/html": "(1 row affected)"
                    },
                    "metadata": {}
                },
                {
                    "output_type": "display_data",
                    "data": {
                        "text/html": "Total execution time: 00:00:00.603"
                    },
                    "metadata": {}
                },
                {
                    "output_type": "execute_result",
                    "execution_count": 25,
                    "data": {
                        "application/vnd.dataresource+json": {
                            "schema": {
                                "fields": [
                                    {
                                        "name": "(No column name)"
                                    }
                                ]
                            },
                            "data": [
                                {
                                    "(No column name)": "8,41747146619842"
                                }
                            ]
                        },
                        "text/html": "<table><tr><th>(No column name)</th></tr><tr><td>8,41747146619842</td></tr></table>"
                    },
                    "metadata": {}
                }
            ],
            "execution_count": 25
        },
        {
            "cell_type": "markdown",
            "source": [
                "Pessoas Negras (quadro geral): Percentual de negros no quadro geral de empregados em 31 de  dezembro de 2021."
            ],
            "metadata": {
                "language": "sql",
                "azdata_cell_guid": "9bfaeef1-5fc3-4b49-a05c-07de716bf5b2"
            },
            "attachments": {}
        },
        {
            "cell_type": "code",
            "source": [
                "USE bi_rip_refinedZone\r\n",
                "GO\r\n",
                "\r\n",
                "WITH QUADRO AS (\r\n",
                "SELECT\r\n",
                "    COUNT(1) AS x\r\n",
                "FROM dpp.vw_dim_funcionarios\r\n",
                "WHERE\r\n",
                "    (\r\n",
                "    dt_demissao_funcionario > DATEFROMPARTS(2021, 12, 31) OR\r\n",
                "    dt_demissao_funcionario IS NULL\r\n",
                "    ) AND\r\n",
                "    dt_admissao_funcionarios < DATEFROMPARTS(2022, 01, 01) AND\r\n",
                "    tp_situacao_folha <> 'Transferido'\r\n",
                "),\r\n",
                "\r\n",
                "RACA AS (\r\n",
                "    SELECT\r\n",
                "    COUNT(1) AS y\r\n",
                "FROM dpp.vw_dim_funcionarios\r\n",
                "WHERE\r\n",
                "    (\r\n",
                "    dt_demissao_funcionario > DATEFROMPARTS(2021, 12, 31) OR\r\n",
                "    dt_demissao_funcionario IS NULL\r\n",
                "    ) AND\r\n",
                "    dt_admissao_funcionarios < DATEFROMPARTS(2022, 01, 01) AND\r\n",
                "    tp_situacao_folha <> 'Transferido' AND tp_raca_funcionario = 'Negra'\r\n",
                ")\r\n",
                "\r\n",
                "SELECT\r\n",
                "    CAST((SELECT y FROM RACA) AS FLOAT) / CAST((SELECT x FROM QUADRO) AS FLOAT) * 100"
            ],
            "metadata": {
                "language": "sql",
                "azdata_cell_guid": "3ad68b2e-fa01-487c-8f44-860519c256a3"
            },
            "outputs": [
                {
                    "output_type": "display_data",
                    "data": {
                        "text/html": "Commands completed successfully."
                    },
                    "metadata": {}
                },
                {
                    "output_type": "display_data",
                    "data": {
                        "text/html": "(1 row affected)"
                    },
                    "metadata": {}
                },
                {
                    "output_type": "display_data",
                    "data": {
                        "text/html": "Total execution time: 00:00:01.968"
                    },
                    "metadata": {}
                },
                {
                    "output_type": "execute_result",
                    "execution_count": 26,
                    "data": {
                        "application/vnd.dataresource+json": {
                            "schema": {
                                "fields": [
                                    {
                                        "name": "(No column name)"
                                    }
                                ]
                            },
                            "data": [
                                {
                                    "(No column name)": "9,368777379530068"
                                }
                            ]
                        },
                        "text/html": "<table><tr><th>(No column name)</th></tr><tr><td>9,368777379530068</td></tr></table>"
                    },
                    "metadata": {}
                }
            ],
            "execution_count": 26
        },
        {
            "cell_type": "markdown",
            "source": [
                "Pessoas Negras (quadro geral): Percentual de negros no quadro geral de empregados em 31 de  dezembro de 2022."
            ],
            "metadata": {
                "language": "sql",
                "azdata_cell_guid": "2499935e-18c5-47d7-b1b2-ef369f0148d4"
            },
            "attachments": {}
        },
        {
            "cell_type": "code",
            "source": [
                "USE bi_rip_refinedZone\r\n",
                "GO\r\n",
                "\r\n",
                "WITH QUADRO AS (\r\n",
                "SELECT\r\n",
                "    COUNT(1) AS x\r\n",
                "FROM dpp.vw_dim_funcionarios\r\n",
                "WHERE\r\n",
                "    (\r\n",
                "    dt_demissao_funcionario > DATEFROMPARTS(2022, 12, 31) OR\r\n",
                "    dt_demissao_funcionario IS NULL\r\n",
                "    ) AND\r\n",
                "    dt_admissao_funcionarios < DATEFROMPARTS(2023, 01, 01) AND\r\n",
                "    tp_situacao_folha <> 'Transferido'\r\n",
                "),\r\n",
                "\r\n",
                "RACA AS (\r\n",
                "    SELECT\r\n",
                "    COUNT(1) AS y\r\n",
                "FROM dpp.vw_dim_funcionarios\r\n",
                "WHERE\r\n",
                "    (\r\n",
                "    dt_demissao_funcionario > DATEFROMPARTS(2022, 12, 31) OR\r\n",
                "    dt_demissao_funcionario IS NULL\r\n",
                "    ) AND\r\n",
                "    dt_admissao_funcionarios < DATEFROMPARTS(2023, 01, 01) AND\r\n",
                "    tp_situacao_folha <> 'Transferido' AND tp_raca_funcionario = 'Negra'\r\n",
                ")\r\n",
                "\r\n",
                "SELECT\r\n",
                "    CAST((SELECT y FROM RACA) AS FLOAT) / CAST((SELECT x FROM QUADRO) AS FLOAT) * 100"
            ],
            "metadata": {
                "language": "sql",
                "azdata_cell_guid": "bc16f630-bbc0-4d04-b20e-7bfe9587fb0e"
            },
            "outputs": [
                {
                    "output_type": "display_data",
                    "data": {
                        "text/html": "Commands completed successfully."
                    },
                    "metadata": {}
                },
                {
                    "output_type": "display_data",
                    "data": {
                        "text/html": "(1 row affected)"
                    },
                    "metadata": {}
                },
                {
                    "output_type": "display_data",
                    "data": {
                        "text/html": "Total execution time: 00:00:00.896"
                    },
                    "metadata": {}
                },
                {
                    "output_type": "execute_result",
                    "execution_count": 27,
                    "data": {
                        "application/vnd.dataresource+json": {
                            "schema": {
                                "fields": [
                                    {
                                        "name": "(No column name)"
                                    }
                                ]
                            },
                            "data": [
                                {
                                    "(No column name)": "8,724758560140474"
                                }
                            ]
                        },
                        "text/html": "<table><tr><th>(No column name)</th></tr><tr><td>8,724758560140474</td></tr></table>"
                    },
                    "metadata": {}
                }
            ],
            "execution_count": 27
        },
        {
            "cell_type": "markdown",
            "source": [
                "Percentual de empregados com até 24 anos em 31 de dezembro de 2021"
            ],
            "metadata": {
                "language": "sql",
                "azdata_cell_guid": "cfde2312-5529-4e7f-a340-f9afc93275d2"
            },
            "attachments": {}
        },
        {
            "cell_type": "code",
            "source": [
                "USE bi_rip_refinedZone\r\n",
                "GO\r\n",
                "\r\n",
                "WITH QUADRO AS (\r\n",
                "SELECT\r\n",
                "    COUNT(1) AS x\r\n",
                "FROM dpp.vw_dim_funcionarios\r\n",
                "WHERE\r\n",
                "    (\r\n",
                "    dt_demissao_funcionario > DATEFROMPARTS(2021, 12, 31) OR\r\n",
                "    dt_demissao_funcionario IS NULL\r\n",
                "    ) AND\r\n",
                "    dt_admissao_funcionarios < DATEFROMPARTS(2022, 01, 01) AND\r\n",
                "    tp_situacao_folha <> 'Transferido'\r\n",
                "),\r\n",
                "\r\n",
                "RACA AS (\r\n",
                "    SELECT\r\n",
                "    COUNT(1) AS y\r\n",
                "FROM dpp.vw_dim_funcionarios\r\n",
                "WHERE\r\n",
                "    (\r\n",
                "    dt_demissao_funcionario > DATEFROMPARTS(2021, 12, 31) OR\r\n",
                "    dt_demissao_funcionario IS NULL\r\n",
                "    ) AND\r\n",
                "    dt_admissao_funcionarios < DATEFROMPARTS(2022, 01, 01) AND\r\n",
                "    tp_situacao_folha <> 'Transferido' AND\r\n",
                "    vl_idade_funcionarios < 25\r\n",
                ")\r\n",
                "\r\n",
                "SELECT\r\n",
                "    CAST((SELECT y FROM RACA) AS FLOAT) / CAST((SELECT x FROM QUADRO) AS FLOAT) * 100"
            ],
            "metadata": {
                "language": "sql",
                "azdata_cell_guid": "162f6796-1b5b-4418-89c6-3d7a42850ccb"
            },
            "outputs": [
                {
                    "output_type": "display_data",
                    "data": {
                        "text/html": "Commands completed successfully."
                    },
                    "metadata": {}
                },
                {
                    "output_type": "display_data",
                    "data": {
                        "text/html": "(1 row affected)"
                    },
                    "metadata": {}
                },
                {
                    "output_type": "display_data",
                    "data": {
                        "text/html": "Total execution time: 00:00:00.454"
                    },
                    "metadata": {}
                },
                {
                    "output_type": "execute_result",
                    "execution_count": 28,
                    "data": {
                        "application/vnd.dataresource+json": {
                            "schema": {
                                "fields": [
                                    {
                                        "name": "(No column name)"
                                    }
                                ]
                            },
                            "data": [
                                {
                                    "(No column name)": "4,4205495818399045"
                                }
                            ]
                        },
                        "text/html": "<table><tr><th>(No column name)</th></tr><tr><td>4,4205495818399045</td></tr></table>"
                    },
                    "metadata": {}
                }
            ],
            "execution_count": 28
        },
        {
            "cell_type": "markdown",
            "source": [
                "Percentual de empregados com até 24 anos em 31 de dezembro de 2022"
            ],
            "metadata": {
                "language": "sql",
                "azdata_cell_guid": "2360e53b-323b-4312-ac74-d66d0ba826e5"
            },
            "attachments": {}
        },
        {
            "cell_type": "code",
            "source": [
                "USE bi_rip_refinedZone\r\n",
                "GO\r\n",
                "\r\n",
                "WITH QUADRO AS (\r\n",
                "SELECT\r\n",
                "    COUNT(1) AS x\r\n",
                "FROM dpp.vw_dim_funcionarios\r\n",
                "WHERE\r\n",
                "    (\r\n",
                "    dt_demissao_funcionario > DATEFROMPARTS(2022, 12, 31) OR\r\n",
                "    dt_demissao_funcionario IS NULL\r\n",
                "    ) AND\r\n",
                "    dt_admissao_funcionarios < DATEFROMPARTS(2023, 01, 01) AND\r\n",
                "    tp_situacao_folha <> 'Transferido'\r\n",
                "),\r\n",
                "\r\n",
                "RACA AS (\r\n",
                "    SELECT\r\n",
                "    COUNT(1) AS y\r\n",
                "FROM dpp.vw_dim_funcionarios\r\n",
                "WHERE\r\n",
                "    (\r\n",
                "    dt_demissao_funcionario > DATEFROMPARTS(2022, 12, 31) OR\r\n",
                "    dt_demissao_funcionario IS NULL\r\n",
                "    ) AND\r\n",
                "    dt_admissao_funcionarios < DATEFROMPARTS(2023, 01, 01) AND\r\n",
                "    tp_situacao_folha <> 'Transferido' AND\r\n",
                "    vl_idade_funcionarios < 25\r\n",
                ")\r\n",
                "\r\n",
                "SELECT\r\n",
                "    CAST((SELECT y FROM RACA) AS FLOAT) / CAST((SELECT x FROM QUADRO) AS FLOAT) * 100"
            ],
            "metadata": {
                "language": "sql",
                "azdata_cell_guid": "b1c0cb3d-9106-4299-a4d1-8b65f661b2ff"
            },
            "outputs": [
                {
                    "output_type": "display_data",
                    "data": {
                        "text/html": "Commands completed successfully."
                    },
                    "metadata": {}
                },
                {
                    "output_type": "display_data",
                    "data": {
                        "text/html": "(1 row affected)"
                    },
                    "metadata": {}
                },
                {
                    "output_type": "display_data",
                    "data": {
                        "text/html": "Total execution time: 00:00:00.119"
                    },
                    "metadata": {}
                },
                {
                    "output_type": "execute_result",
                    "execution_count": 29,
                    "data": {
                        "application/vnd.dataresource+json": {
                            "schema": {
                                "fields": [
                                    {
                                        "name": "(No column name)"
                                    }
                                ]
                            },
                            "data": [
                                {
                                    "(No column name)": "6,859086918349429"
                                }
                            ]
                        },
                        "text/html": "<table><tr><th>(No column name)</th></tr><tr><td>6,859086918349429</td></tr></table>"
                    },
                    "metadata": {}
                }
            ],
            "execution_count": 29
        },
        {
            "cell_type": "markdown",
            "source": [
                "Percentual de empregados com mais de 45 anos em 31 de dezembro de 2021"
            ],
            "metadata": {
                "language": "sql",
                "azdata_cell_guid": "c27c2099-3ab3-46ec-ad31-816cb24592c7"
            },
            "attachments": {}
        },
        {
            "cell_type": "code",
            "source": [
                "USE bi_rip_refinedZone\r\n",
                "GO\r\n",
                "\r\n",
                "WITH QUADRO AS (\r\n",
                "SELECT\r\n",
                "    COUNT(1) AS x\r\n",
                "FROM dpp.vw_dim_funcionarios\r\n",
                "WHERE\r\n",
                "    (\r\n",
                "    dt_demissao_funcionario > DATEFROMPARTS(2021, 12, 31) OR\r\n",
                "    dt_demissao_funcionario IS NULL\r\n",
                "    ) AND\r\n",
                "    dt_admissao_funcionarios < DATEFROMPARTS(2022, 01, 01) AND\r\n",
                "    tp_situacao_folha <> 'Transferido'\r\n",
                "),\r\n",
                "\r\n",
                "RACA AS (\r\n",
                "    SELECT\r\n",
                "    COUNT(1) AS y\r\n",
                "FROM dpp.vw_dim_funcionarios\r\n",
                "WHERE\r\n",
                "    (\r\n",
                "    dt_demissao_funcionario > DATEFROMPARTS(2021, 12, 31) OR\r\n",
                "    dt_demissao_funcionario IS NULL\r\n",
                "    ) AND\r\n",
                "    dt_admissao_funcionarios < DATEFROMPARTS(2022, 01, 01) AND\r\n",
                "    tp_situacao_folha <> 'Transferido' AND\r\n",
                "    vl_idade_funcionarios > 45\r\n",
                ")\r\n",
                "\r\n",
                "SELECT\r\n",
                "    CAST((SELECT y FROM RACA) AS FLOAT) / CAST((SELECT x FROM QUADRO) AS FLOAT) * 100"
            ],
            "metadata": {
                "language": "sql",
                "azdata_cell_guid": "6088f8f0-7186-41a6-bbc2-548c9ad3d6aa"
            },
            "outputs": [
                {
                    "output_type": "display_data",
                    "data": {
                        "text/html": "Commands completed successfully."
                    },
                    "metadata": {}
                },
                {
                    "output_type": "display_data",
                    "data": {
                        "text/html": "(1 row affected)"
                    },
                    "metadata": {}
                },
                {
                    "output_type": "display_data",
                    "data": {
                        "text/html": "Total execution time: 00:00:00.110"
                    },
                    "metadata": {}
                },
                {
                    "output_type": "execute_result",
                    "execution_count": 30,
                    "data": {
                        "application/vnd.dataresource+json": {
                            "schema": {
                                "fields": [
                                    {
                                        "name": "(No column name)"
                                    }
                                ]
                            },
                            "data": [
                                {
                                    "(No column name)": "31,05336519315014"
                                }
                            ]
                        },
                        "text/html": "<table><tr><th>(No column name)</th></tr><tr><td>31,05336519315014</td></tr></table>"
                    },
                    "metadata": {}
                }
            ],
            "execution_count": 30
        },
        {
            "cell_type": "markdown",
            "source": [
                "Percentual de empregados com mais de 45 anos em 31 de dezembro de 2022"
            ],
            "metadata": {
                "language": "sql",
                "azdata_cell_guid": "86da5a21-0361-47f5-8edf-c0481932bcf4"
            },
            "attachments": {}
        },
        {
            "cell_type": "code",
            "source": [
                "USE bi_rip_refinedZone\r\n",
                "GO\r\n",
                "\r\n",
                "WITH QUADRO AS (\r\n",
                "SELECT\r\n",
                "    COUNT(1) AS x\r\n",
                "FROM dpp.vw_dim_funcionarios\r\n",
                "WHERE\r\n",
                "    (\r\n",
                "    dt_demissao_funcionario > DATEFROMPARTS(2022, 12, 31) OR\r\n",
                "    dt_demissao_funcionario IS NULL\r\n",
                "    ) AND\r\n",
                "    dt_admissao_funcionarios < DATEFROMPARTS(2023, 01, 01) AND\r\n",
                "    tp_situacao_folha <> 'Transferido'\r\n",
                "),\r\n",
                "\r\n",
                "RACA AS (\r\n",
                "    SELECT\r\n",
                "    COUNT(1) AS y\r\n",
                "FROM dpp.vw_dim_funcionarios\r\n",
                "WHERE\r\n",
                "    (\r\n",
                "    dt_demissao_funcionario > DATEFROMPARTS(2022, 12, 31) OR\r\n",
                "    dt_demissao_funcionario IS NULL\r\n",
                "    ) AND\r\n",
                "    dt_admissao_funcionarios < DATEFROMPARTS(2023, 01, 01) AND\r\n",
                "    tp_situacao_folha <> 'Transferido' AND\r\n",
                "    vl_idade_funcionarios > 45\r\n",
                ")\r\n",
                "\r\n",
                "SELECT\r\n",
                "    CAST((SELECT y FROM RACA) AS FLOAT) / CAST((SELECT x FROM QUADRO) AS FLOAT) * 100"
            ],
            "metadata": {
                "language": "sql",
                "azdata_cell_guid": "345e2668-e967-4019-bef1-6ecbef592d2c"
            },
            "outputs": [
                {
                    "output_type": "display_data",
                    "data": {
                        "text/html": "Commands completed successfully."
                    },
                    "metadata": {}
                },
                {
                    "output_type": "display_data",
                    "data": {
                        "text/html": "(1 row affected)"
                    },
                    "metadata": {}
                },
                {
                    "output_type": "display_data",
                    "data": {
                        "text/html": "Total execution time: 00:00:00.104"
                    },
                    "metadata": {}
                },
                {
                    "output_type": "execute_result",
                    "execution_count": 31,
                    "data": {
                        "application/vnd.dataresource+json": {
                            "schema": {
                                "fields": [
                                    {
                                        "name": "(No column name)"
                                    }
                                ]
                            },
                            "data": [
                                {
                                    "(No column name)": "30,37752414398595"
                                }
                            ]
                        },
                        "text/html": "<table><tr><th>(No column name)</th></tr><tr><td>30,37752414398595</td></tr></table>"
                    },
                    "metadata": {}
                }
            ],
            "execution_count": 31
        },
        {
            "cell_type": "markdown",
            "source": [
                "Perfil das Aprendizes <span style=\"color: var(--vscode-foreground);\">: Aprendizes mulheres - Total de Mulheres</span>"
            ],
            "metadata": {
                "azdata_cell_guid": "c4bb3e20-75ce-420a-aa67-a3e81484974a"
            },
            "attachments": {}
        },
        {
            "cell_type": "code",
            "source": [
                "USE bi_rip_refinedZone\r\n",
                "GO\r\n",
                "\r\n",
                "SELECT\r\n",
                "    COUNT(1),\r\n",
                "    tp_raca_funcionario\r\n",
                "FROM dpp.vw_dim_funcionarios\r\n",
                "WHERE\r\n",
                "    ds_funcao_funcionarios LIKE '%TRAINEE%' AND\r\n",
                "    tp_sexo_funcionario = 'Masculino' AND\r\n",
                "    tp_situacao_folha <> 'Transferido' AND\r\n",
                "    (\r\n",
                "        (\r\n",
                "            dt_demissao_funcionario > DATEFROMPARTS(2020, 12, 31) AND\r\n",
                "            dt_demissao_funcionario < DATEFROMPARTS(2022, 01, 01)\r\n",
                "            OR dt_demissao_funcionario IS NULL\r\n",
                "        )  AND\r\n",
                "        dt_admissao_funcionarios < DATEFROMPARTS(2022, 01, 01)\r\n",
                "    )\r\n",
                "GROUP BY tp_raca_funcionario\r\n",
                "ORDER BY COUNT(1) DESC"
            ],
            "metadata": {
                "azdata_cell_guid": "0c08fa89-e5ab-4f92-8069-1c5cc78d3a1a",
                "language": "sql"
            },
            "outputs": [
                {
                    "output_type": "display_data",
                    "data": {
                        "text/html": "Commands completed successfully."
                    },
                    "metadata": {}
                },
                {
                    "output_type": "display_data",
                    "data": {
                        "text/html": "(2 rows affected)"
                    },
                    "metadata": {}
                },
                {
                    "output_type": "display_data",
                    "data": {
                        "text/html": "Total execution time: 00:00:00.110"
                    },
                    "metadata": {}
                },
                {
                    "output_type": "execute_result",
                    "execution_count": 151,
                    "data": {
                        "application/vnd.dataresource+json": {
                            "schema": {
                                "fields": [
                                    {
                                        "name": "(No column name)"
                                    },
                                    {
                                        "name": "tp_raca_funcionario"
                                    }
                                ]
                            },
                            "data": [
                                {
                                    "(No column name)": "3",
                                    "tp_raca_funcionario": "Branca"
                                },
                                {
                                    "(No column name)": "2",
                                    "tp_raca_funcionario": "Parda"
                                }
                            ]
                        },
                        "text/html": "<table><tr><th>(No column name)</th><th>tp_raca_funcionario</th></tr><tr><td>3</td><td>Branca</td></tr><tr><td>2</td><td>Parda</td></tr></table>"
                    },
                    "metadata": {}
                }
            ],
            "execution_count": 151
        },
        {
            "cell_type": "markdown",
            "source": [
                "|  |\n",
                "| --- |\n",
                "| Perfil das Aprendizes: Aprendizes mulheres por tipo de deficiência: auditiva <br> |"
            ],
            "metadata": {
                "language": "sql",
                "azdata_cell_guid": "502f40a7-3d83-48f7-ab90-5d56897e8f9a"
            },
            "attachments": {}
        },
        {
            "cell_type": "code",
            "source": [
                "USE bi_rip_refinedZone\r\n",
                "GO\r\n",
                "\r\n",
                "SELECT\r\n",
                "    COUNT(1),\r\n",
                "    tp_defic_funcionarios\r\n",
                "FROM dpp.vw_dim_funcionarios\r\n",
                "WHERE\r\n",
                "    ds_funcao_funcionarios LIKE '%TRAINEE%' AND\r\n",
                "    tp_sexo_funcionario = 'Masculino' AND\r\n",
                "    tp_situacao_folha <> 'Transferido' AND\r\n",
                "    (\r\n",
                "        (\r\n",
                "            dt_demissao_funcionario > DATEFROMPARTS(2022, 12, 31) AND\r\n",
                "            dt_demissao_funcionario < DATEFROMPARTS(2024, 01, 01)\r\n",
                "            OR dt_demissao_funcionario IS NULL\r\n",
                "        ) AND\r\n",
                "        dt_admissao_funcionarios < DATEFROMPARTS(2024, 01, 01)\r\n",
                "    )\r\n",
                "GROUP BY tp_defic_funcionarios\r\n",
                "ORDER BY COUNT(1) DESC"
            ],
            "metadata": {
                "language": "sql",
                "azdata_cell_guid": "7fb7c19f-e802-40ed-b99a-1fec7a3e4c38"
            },
            "outputs": [
                {
                    "output_type": "display_data",
                    "data": {
                        "text/html": "Commands completed successfully."
                    },
                    "metadata": {}
                },
                {
                    "output_type": "display_data",
                    "data": {
                        "text/html": "(1 row affected)"
                    },
                    "metadata": {}
                },
                {
                    "output_type": "display_data",
                    "data": {
                        "text/html": "Total execution time: 00:00:00.182"
                    },
                    "metadata": {}
                },
                {
                    "output_type": "execute_result",
                    "execution_count": 158,
                    "data": {
                        "application/vnd.dataresource+json": {
                            "schema": {
                                "fields": [
                                    {
                                        "name": "(No column name)"
                                    },
                                    {
                                        "name": "tp_defic_funcionarios"
                                    }
                                ]
                            },
                            "data": [
                                {
                                    "(No column name)": "8",
                                    "tp_defic_funcionarios": "Não Portador"
                                }
                            ]
                        },
                        "text/html": "<table><tr><th>(No column name)</th><th>tp_defic_funcionarios</th></tr><tr><td>8</td><td>Não Portador</td></tr></table>"
                    },
                    "metadata": {}
                }
            ],
            "execution_count": 158
        },
        {
            "cell_type": "markdown",
            "source": [
                "|  |\n",
                "| --- |\n",
                "| Perfil das Aprendizes: Aprendizes mulheres - Por Faixa etária:<br> |"
            ],
            "metadata": {
                "language": "sql",
                "azdata_cell_guid": "af1cf2d6-4ecf-4e74-a8bd-c7980bc6483c"
            },
            "attachments": {}
        },
        {
            "cell_type": "code",
            "source": [
                "USE bi_rip_refinedZone\r\n",
                "GO\r\n",
                "\r\n",
                "WITH X AS (\r\n",
                "SELECT\r\n",
                "    CASE \r\n",
                "        WHEN vl_idade_funcionarios BETWEEN 14 AND 18 THEN '14-18'\r\n",
                "        WHEN vl_idade_funcionarios BETWEEN 19 AND 24 THEN '19-24'\r\n",
                "        WHEN vl_idade_funcionarios BETWEEN 25 AND 34 THEN '25-34'\r\n",
                "        WHEN vl_idade_funcionarios BETWEEN 35 AND 44 THEN '35-44'\r\n",
                "        WHEN vl_idade_funcionarios BETWEEN 45 AND 54 THEN '45-54'\r\n",
                "        ELSE '55+'\r\n",
                "        END AS faixa,\r\n",
                "    COUNT(1) AS contagem\r\n",
                "FROM dpp.vw_dim_funcionarios\r\n",
                "WHERE \r\n",
                "    tp_sexo_funcionario = 'Masculino' AND \r\n",
                "    tp_situacao_folha <> 'Transferido' AND\r\n",
                "    (\r\n",
                "        dt_demissao_funcionario > DATEFROMPARTS(2022, 12, 31) AND\r\n",
                "        dt_demissao_funcionario < DATEFROMPARTS(2024, 01, 01)\r\n",
                "        OR dt_demissao_funcionario IS NULL\r\n",
                "    )  AND\r\n",
                "    dt_admissao_funcionarios < DATEFROMPARTS(2024, 01, 01) AND\r\n",
                "    ds_funcao_funcionarios LIKE '%TRAINEE%'\r\n",
                "    \r\n",
                "GROUP BY vl_idade_funcionarios\r\n",
                ")\r\n",
                "\r\n",
                "SELECT faixa, SUM(contagem) FROM X\r\n",
                "GROUP BY faixa\r\n",
                "ORDER BY SUM(contagem) DESC;"
            ],
            "metadata": {
                "language": "sql",
                "azdata_cell_guid": "bda45ef5-19b3-48d3-a491-02c95016370d"
            },
            "outputs": [
                {
                    "output_type": "display_data",
                    "data": {
                        "text/html": "Commands completed successfully."
                    },
                    "metadata": {}
                },
                {
                    "output_type": "display_data",
                    "data": {
                        "text/html": "(1 row affected)"
                    },
                    "metadata": {}
                },
                {
                    "output_type": "display_data",
                    "data": {
                        "text/html": "Total execution time: 00:00:00.145"
                    },
                    "metadata": {}
                },
                {
                    "output_type": "execute_result",
                    "execution_count": 161,
                    "data": {
                        "application/vnd.dataresource+json": {
                            "schema": {
                                "fields": [
                                    {
                                        "name": "faixa"
                                    },
                                    {
                                        "name": "(No column name)"
                                    }
                                ]
                            },
                            "data": [
                                {
                                    "faixa": "25-34",
                                    "(No column name)": "8"
                                }
                            ]
                        },
                        "text/html": "<table><tr><th>faixa</th><th>(No column name)</th></tr><tr><td>25-34</td><td>8</td></tr></table>"
                    },
                    "metadata": {}
                }
            ],
            "execution_count": 161
        },
        {
            "cell_type": "markdown",
            "source": [
                "|  |\n",
                "| --- |\n",
                "| Perfil das Aprendizes: Total de Aprendizes mulheres com Ensino fundamental incompleto<br> |"
            ],
            "metadata": {
                "language": "sql",
                "azdata_cell_guid": "4f36e5a0-0367-43bb-8fb1-9ed296a9868f"
            },
            "attachments": {}
        },
        {
            "cell_type": "code",
            "source": [
                "USE bi_rip_refinedZone\r\n",
                "GO\r\n",
                "\r\n",
                "SELECT\r\n",
                "    COUNT(1),\r\n",
                "    tp_raca_funcionario\r\n",
                "FROM dpp.vw_dim_funcionarios\r\n",
                "WHERE\r\n",
                "    ds_funcao_funcionarios LIKE '%TRAINEE%' AND\r\n",
                "    tp_sexo_funcionario = 'Masculino' AND\r\n",
                "    tp_situacao_folha <> 'Transferido' AND\r\n",
                "    (\r\n",
                "        (\r\n",
                "            dt_demissao_funcionario > DATEFROMPARTS(2020, 12, 31) AND\r\n",
                "            dt_demissao_funcionario < DATEFROMPARTS(2022, 01, 01)\r\n",
                "            OR dt_demissao_funcionario IS NULL\r\n",
                "        ) AND\r\n",
                "        dt_admissao_funcionarios < DATEFROMPARTS(2022, 01, 01) AND\r\n",
                "        ds_escolaridade_funcionarios IN (\r\n",
                "            'POS-GRADUACAO/ESPECIALIZACAO',\r\n",
                "            'DOUTORADO COMPLETO',\r\n",
                "            'MESTRADO COMPLETO'\r\n",
                "        )\r\n",
                "    )\r\n",
                "GROUP BY tp_raca_funcionario\r\n",
                "ORDER BY COUNT(1) DESC"
            ],
            "metadata": {
                "language": "sql",
                "azdata_cell_guid": "5def7d67-9c31-49a2-a69c-6955ab7782b3"
            },
            "outputs": [
                {
                    "output_type": "display_data",
                    "data": {
                        "text/html": "Commands completed successfully."
                    },
                    "metadata": {}
                },
                {
                    "output_type": "display_data",
                    "data": {
                        "text/html": "(0 rows affected)"
                    },
                    "metadata": {}
                },
                {
                    "output_type": "display_data",
                    "data": {
                        "text/html": "Total execution time: 00:00:00.150"
                    },
                    "metadata": {}
                },
                {
                    "output_type": "execute_result",
                    "execution_count": 173,
                    "data": {
                        "application/vnd.dataresource+json": {
                            "schema": {
                                "fields": [
                                    {
                                        "name": "(No column name)"
                                    },
                                    {
                                        "name": "tp_raca_funcionario"
                                    }
                                ]
                            },
                            "data": []
                        },
                        "text/html": "<table><tr><th>(No column name)</th><th>tp_raca_funcionario</th></tr></table>"
                    },
                    "metadata": {}
                }
            ],
            "execution_count": 173
        },
        {
            "cell_type": "markdown",
            "source": [
                "|  |\n",
                "| --- |\n",
                "| Perfil das Aprendizes: Aprendizes mulheres com Ensino fundamental completo, por raça/etnia<br> |"
            ],
            "metadata": {
                "language": "sql",
                "azdata_cell_guid": "c8804215-54f4-4977-8e64-77edbf732769"
            },
            "attachments": {}
        },
        {
            "cell_type": "code",
            "source": [
                "USE bi_rip_refinedZone\r\n",
                "GO\r\n",
                "\r\n",
                "SELECT\r\n",
                "    COUNT(1),\r\n",
                "    tp_raca_funcionario\r\n",
                "FROM dpp.vw_dim_funcionarios\r\n",
                "WHERE\r\n",
                "    ds_funcao_funcionarios LIKE '%APRENDIZ%' AND\r\n",
                "    tp_sexo_funcionario = 'Feminino' AND\r\n",
                "    tp_situacao_folha <> 'Transferido' AND\r\n",
                "    (\r\n",
                "        (\r\n",
                "            dt_demissao_funcionario > DATEFROMPARTS(2020, 12, 31) AND\r\n",
                "            dt_demissao_funcionario < DATEFROMPARTS(2024, 01, 01)\r\n",
                "            OR dt_demissao_funcionario IS NULL\r\n",
                "        ) AND\r\n",
                "        dt_admissao_funcionarios < DATEFROMPARTS(2024, 01, 01) AND\r\n",
                "        ds_escolaridade_funcionarios = 'SUPERIOR COMPLETO'\r\n",
                "    )\r\n",
                "GROUP BY tp_raca_funcionario\r\n",
                "ORDER BY COUNT(1) DESC"
            ],
            "metadata": {
                "language": "sql",
                "azdata_cell_guid": "4b1ade55-c996-42d1-a282-72b4d10376fa",
                "tags": []
            },
            "outputs": [
                {
                    "output_type": "display_data",
                    "data": {
                        "text/html": "Commands completed successfully."
                    },
                    "metadata": {}
                },
                {
                    "output_type": "display_data",
                    "data": {
                        "text/html": "(0 rows affected)"
                    },
                    "metadata": {}
                },
                {
                    "output_type": "display_data",
                    "data": {
                        "text/html": "Total execution time: 00:00:00.073"
                    },
                    "metadata": {}
                },
                {
                    "output_type": "execute_result",
                    "execution_count": 83,
                    "data": {
                        "application/vnd.dataresource+json": {
                            "schema": {
                                "fields": [
                                    {
                                        "name": "(No column name)"
                                    },
                                    {
                                        "name": "tp_raca_funcionario"
                                    }
                                ]
                            },
                            "data": []
                        },
                        "text/html": "<table><tr><th>(No column name)</th><th>tp_raca_funcionario</th></tr></table>"
                    },
                    "metadata": {}
                }
            ],
            "execution_count": 83
        },
        {
            "cell_type": "markdown",
            "source": [
                "Perfil das Aprendizes <span style=\"color: var(--vscode-foreground);\">: Aprendizes mulheres - Total de Mulheres</span>"
            ],
            "metadata": {
                "language": "sql",
                "azdata_cell_guid": "ae38b625-fb88-47d7-ad4f-d0561f10c29c"
            },
            "attachments": {}
        },
        {
            "cell_type": "code",
            "source": [
                "USE bi_rip_refinedZone\r\n",
                "GO\r\n",
                "\r\n",
                "SELECT\r\n",
                "    COUNT(1),\r\n",
                "    dt_admissao_funcionarios, dt_demissao_funcionario\r\n",
                "FROM dpp.vw_dim_funcionarios\r\n",
                "WHERE\r\n",
                "    ds_funcao_funcionarios LIKE '%TRAINEE%' AND\r\n",
                "    tp_sexo_funcionario = 'Masculino' AND\r\n",
                "    tp_situacao_folha <> 'Transferido' AND\r\n",
                "    (\r\n",
                "        (\r\n",
                "            dt_demissao_funcionario > DATEFROMPARTS(2022, 12, 31) AND\r\n",
                "            dt_demissao_funcionario < DATEFROMPARTS(2024, 01, 01)\r\n",
                "            OR dt_demissao_funcionario IS NULL\r\n",
                "        )  AND\r\n",
                "        dt_admissao_funcionarios < DATEFROMPARTS(2024, 01, 01)\r\n",
                "    )\r\n",
                "GROUP BY dt_admissao_funcionarios, dt_demissao_funcionario\r\n",
                "ORDER BY COUNT(1) DESC"
            ],
            "metadata": {
                "language": "sql",
                "azdata_cell_guid": "6b43404e-c3e3-4d2f-9033-9232a752fc5b"
            },
            "outputs": [
                {
                    "output_type": "display_data",
                    "data": {
                        "text/html": "Commands completed successfully."
                    },
                    "metadata": {}
                },
                {
                    "output_type": "display_data",
                    "data": {
                        "text/html": "(8 rows affected)"
                    },
                    "metadata": {}
                },
                {
                    "output_type": "display_data",
                    "data": {
                        "text/html": "Total execution time: 00:00:00.200"
                    },
                    "metadata": {}
                },
                {
                    "output_type": "execute_result",
                    "execution_count": 146,
                    "data": {
                        "application/vnd.dataresource+json": {
                            "schema": {
                                "fields": [
                                    {
                                        "name": "(No column name)"
                                    },
                                    {
                                        "name": "dt_admissao_funcionarios"
                                    },
                                    {
                                        "name": "dt_demissao_funcionario"
                                    }
                                ]
                            },
                            "data": [
                                {
                                    "(No column name)": "1",
                                    "dt_admissao_funcionarios": "2022-02-07",
                                    "dt_demissao_funcionario": "2023-02-06"
                                },
                                {
                                    "(No column name)": "1",
                                    "dt_admissao_funcionarios": "2023-01-16",
                                    "dt_demissao_funcionario": "2023-03-01"
                                },
                                {
                                    "(No column name)": "1",
                                    "dt_admissao_funcionarios": "2023-01-09",
                                    "dt_demissao_funcionario": "2023-05-15"
                                },
                                {
                                    "(No column name)": "1",
                                    "dt_admissao_funcionarios": "2023-01-16",
                                    "dt_demissao_funcionario": "2023-06-06"
                                },
                                {
                                    "(No column name)": "1",
                                    "dt_admissao_funcionarios": "2023-01-16",
                                    "dt_demissao_funcionario": "2023-07-01"
                                },
                                {
                                    "(No column name)": "1",
                                    "dt_admissao_funcionarios": "2023-01-16",
                                    "dt_demissao_funcionario": "2023-10-09"
                                },
                                {
                                    "(No column name)": "1",
                                    "dt_admissao_funcionarios": "2023-01-16",
                                    "dt_demissao_funcionario": "2023-11-24"
                                },
                                {
                                    "(No column name)": "1",
                                    "dt_admissao_funcionarios": "2023-01-16",
                                    "dt_demissao_funcionario": "2023-12-19"
                                }
                            ]
                        },
                        "text/html": "<table><tr><th>(No column name)</th><th>dt_admissao_funcionarios</th><th>dt_demissao_funcionario</th></tr><tr><td>1</td><td>2022-02-07</td><td>2023-02-06</td></tr><tr><td>1</td><td>2023-01-16</td><td>2023-03-01</td></tr><tr><td>1</td><td>2023-01-09</td><td>2023-05-15</td></tr><tr><td>1</td><td>2023-01-16</td><td>2023-06-06</td></tr><tr><td>1</td><td>2023-01-16</td><td>2023-07-01</td></tr><tr><td>1</td><td>2023-01-16</td><td>2023-10-09</td></tr><tr><td>1</td><td>2023-01-16</td><td>2023-11-24</td></tr><tr><td>1</td><td>2023-01-16</td><td>2023-12-19</td></tr></table>"
                    },
                    "metadata": {}
                }
            ],
            "execution_count": 146
        },
        {
            "cell_type": "markdown",
            "source": [
                "|  |\n",
                "| --- |\n",
                "| Perfil dos Aprendizes: Aprendizes homens por tipo de deficiência:<br> |"
            ],
            "metadata": {
                "language": "sql",
                "azdata_cell_guid": "bdb537a9-1c13-40a5-b9ba-59e6dadd7a69"
            },
            "attachments": {}
        },
        {
            "cell_type": "code",
            "source": [
                "USE bi_rip_refinedZone\r\n",
                "GO\r\n",
                "\r\n",
                "SELECT\r\n",
                "    COUNT(1),\r\n",
                "    tp_defic_funcionarios\r\n",
                "FROM dpp.vw_dim_funcionarios\r\n",
                "WHERE\r\n",
                "    ds_funcao_funcionarios LIKE '%APRENDIZ%' AND\r\n",
                "    tp_sexo_funcionario = 'Masculino' AND\r\n",
                "    tp_situacao_folha <> 'Transferido' AND\r\n",
                "    (\r\n",
                "        (\r\n",
                "            dt_demissao_funcionario > DATEFROMPARTS(2022, 12, 31) AND\r\n",
                "            dt_demissao_funcionario < DATEFROMPARTS(2024, 01, 01)\r\n",
                "            OR dt_demissao_funcionario IS NULL\r\n",
                "        ) AND\r\n",
                "        dt_admissao_funcionarios < DATEFROMPARTS(2024, 01, 01)\r\n",
                "    )\r\n",
                "GROUP BY tp_defic_funcionarios\r\n",
                "ORDER BY COUNT(1) DESC"
            ],
            "metadata": {
                "language": "sql",
                "azdata_cell_guid": "25466916-a64a-4ca2-9b4d-d2e3b270627b"
            },
            "outputs": [
                {
                    "output_type": "display_data",
                    "data": {
                        "text/html": "Commands completed successfully."
                    },
                    "metadata": {}
                },
                {
                    "output_type": "display_data",
                    "data": {
                        "text/html": "(2 rows affected)"
                    },
                    "metadata": {}
                },
                {
                    "output_type": "display_data",
                    "data": {
                        "text/html": "Total execution time: 00:00:00.185"
                    },
                    "metadata": {}
                },
                {
                    "output_type": "execute_result",
                    "execution_count": 94,
                    "data": {
                        "application/vnd.dataresource+json": {
                            "schema": {
                                "fields": [
                                    {
                                        "name": "(No column name)"
                                    },
                                    {
                                        "name": "tp_defic_funcionarios"
                                    }
                                ]
                            },
                            "data": [
                                {
                                    "(No column name)": "20",
                                    "tp_defic_funcionarios": "Não Portador"
                                },
                                {
                                    "(No column name)": "1",
                                    "tp_defic_funcionarios": "Intelectual (Mental)"
                                }
                            ]
                        },
                        "text/html": "<table><tr><th>(No column name)</th><th>tp_defic_funcionarios</th></tr><tr><td>20</td><td>Não Portador</td></tr><tr><td>1</td><td>Intelectual (Mental)</td></tr></table>"
                    },
                    "metadata": {}
                }
            ],
            "execution_count": 94
        },
        {
            "cell_type": "markdown",
            "source": [
                "Perfil dos Aprendizes<span style=\"color: var(--vscode-foreground);\">: Aprendizes homens - Por Faixa etária:</span>"
            ],
            "metadata": {
                "language": "sql",
                "azdata_cell_guid": "d7869104-c6d4-41ec-ac87-7855f801aafd"
            },
            "attachments": {}
        },
        {
            "cell_type": "code",
            "source": [
                "USE bi_rip_refinedZone\r\n",
                "GO\r\n",
                "\r\n",
                "WITH X AS (\r\n",
                "SELECT\r\n",
                "    CASE \r\n",
                "        WHEN vl_idade_funcionarios BETWEEN 14 AND 18 THEN '14-18'\r\n",
                "        WHEN vl_idade_funcionarios BETWEEN 19 AND 24 THEN '19-24'\r\n",
                "        WHEN vl_idade_funcionarios BETWEEN 25 AND 34 THEN '25-34'\r\n",
                "        WHEN vl_idade_funcionarios BETWEEN 35 AND 44 THEN '35-44'\r\n",
                "        WHEN vl_idade_funcionarios BETWEEN 45 AND 54 THEN '45-54'\r\n",
                "        ELSE '55+'\r\n",
                "        END AS faixa,\r\n",
                "    COUNT(1) AS contagem\r\n",
                "FROM dpp.vw_dim_funcionarios\r\n",
                "WHERE \r\n",
                "    tp_sexo_funcionario = 'Masculino' AND \r\n",
                "    tp_situacao_folha <> 'Transferido' AND\r\n",
                "    (\r\n",
                "        dt_demissao_funcionario > DATEFROMPARTS(2022, 12, 31) AND\r\n",
                "        dt_demissao_funcionario < DATEFROMPARTS(2024, 01, 01)\r\n",
                "        OR dt_demissao_funcionario IS NULL\r\n",
                "    )  AND\r\n",
                "    dt_admissao_funcionarios < DATEFROMPARTS(2024, 01, 01) --AND\r\n",
                "    -- ds_funcao_funcionarios LIKE '%APRENDIZ%'\r\n",
                "    \r\n",
                "GROUP BY vl_idade_funcionarios\r\n",
                ")\r\n",
                "\r\n",
                "SELECT faixa, SUM(contagem) FROM X\r\n",
                "GROUP BY faixa\r\n",
                "ORDER BY SUM(contagem) DESC;"
            ],
            "metadata": {
                "language": "sql",
                "azdata_cell_guid": "7d852cfc-942e-433a-8b11-1d7f1e894ae9"
            },
            "outputs": [
                {
                    "output_type": "display_data",
                    "data": {
                        "text/html": "Commands completed successfully."
                    },
                    "metadata": {}
                },
                {
                    "output_type": "display_data",
                    "data": {
                        "text/html": "(6 rows affected)"
                    },
                    "metadata": {}
                },
                {
                    "output_type": "display_data",
                    "data": {
                        "text/html": "Total execution time: 00:00:00.118"
                    },
                    "metadata": {}
                },
                {
                    "output_type": "execute_result",
                    "metadata": {},
                    "execution_count": 72,
                    "data": {
                        "application/vnd.dataresource+json": {
                            "schema": {
                                "fields": [
                                    {
                                        "name": "faixa"
                                    },
                                    {
                                        "name": "(No column name)"
                                    }
                                ]
                            },
                            "data": [
                                {
                                    "faixa": "35-44",
                                    "(No column name)": "5358"
                                },
                                {
                                    "faixa": "25-34",
                                    "(No column name)": "4348"
                                },
                                {
                                    "faixa": "45-54",
                                    "(No column name)": "3016"
                                },
                                {
                                    "faixa": "55+",
                                    "(No column name)": "1448"
                                },
                                {
                                    "faixa": "19-24",
                                    "(No column name)": "1387"
                                },
                                {
                                    "faixa": "14-18",
                                    "(No column name)": "3"
                                }
                            ]
                        },
                        "text/html": [
                            "<table>",
                            "<tr><th>faixa</th><th>(No column name)</th></tr>",
                            "<tr><td>35-44</td><td>5358</td></tr>",
                            "<tr><td>25-34</td><td>4348</td></tr>",
                            "<tr><td>45-54</td><td>3016</td></tr>",
                            "<tr><td>55+</td><td>1448</td></tr>",
                            "<tr><td>19-24</td><td>1387</td></tr>",
                            "<tr><td>14-18</td><td>3</td></tr>",
                            "</table>"
                        ]
                    }
                }
            ],
            "execution_count": 72
        },
        {
            "cell_type": "markdown",
            "source": [
                "escolaridade aprendiz homem"
            ],
            "metadata": {
                "language": "sql",
                "azdata_cell_guid": "2a9fb0c0-e526-4c96-ae56-2088d67bf263"
            },
            "attachments": {}
        },
        {
            "cell_type": "code",
            "source": [
                "USE bi_rip_refinedZone\r\n",
                "GO\r\n",
                "\r\n",
                "SELECT\r\n",
                "    COUNT(1),\r\n",
                "    tp_raca_funcionario\r\n",
                "FROM dpp.vw_dim_funcionarios\r\n",
                "WHERE\r\n",
                "    ds_funcao_funcionarios LIKE '%APRENDIZ%' AND\r\n",
                "    tp_sexo_funcionario = 'Masculino' AND\r\n",
                "    tp_situacao_folha <> 'Transferido' AND\r\n",
                "    (\r\n",
                "        (\r\n",
                "            dt_demissao_funcionario > DATEFROMPARTS(2022, 12, 31) AND\r\n",
                "            dt_demissao_funcionario < DATEFROMPARTS(2024, 01, 01)\r\n",
                "            OR dt_demissao_funcionario IS NULL\r\n",
                "        ) AND\r\n",
                "        dt_admissao_funcionarios < DATEFROMPARTS(2024, 01, 01)\r\n",
                "    ) AND ds_escolaridade_funcionarios IN ('PRIMEIRO GRAU (GINASIO) COMPLETO', 'SEGUNDO GRAU (COLEGIAL) INCOMPLETO', 'SEGUNDO GRAU (COLEGIAL) COMPLETO', 'SUPERIOR INCOMPLETO')\r\n",
                "GROUP BY tp_raca_funcionario\r\n",
                "ORDER BY COUNT(1) DESC"
            ],
            "metadata": {
                "language": "sql",
                "azdata_cell_guid": "92ebfe3d-a5ec-403c-b3f2-789239b8700d"
            },
            "outputs": [
                {
                    "output_type": "display_data",
                    "data": {
                        "text/html": "Commands completed successfully."
                    },
                    "metadata": {}
                },
                {
                    "output_type": "display_data",
                    "data": {
                        "text/html": "(4 rows affected)"
                    },
                    "metadata": {}
                },
                {
                    "output_type": "display_data",
                    "data": {
                        "text/html": "Total execution time: 00:00:00.163"
                    },
                    "metadata": {}
                },
                {
                    "output_type": "execute_result",
                    "execution_count": 114,
                    "data": {
                        "application/vnd.dataresource+json": {
                            "schema": {
                                "fields": [
                                    {
                                        "name": "(No column name)"
                                    },
                                    {
                                        "name": "tp_raca_funcionario"
                                    }
                                ]
                            },
                            "data": [
                                {
                                    "(No column name)": "8",
                                    "tp_raca_funcionario": "Parda"
                                },
                                {
                                    "(No column name)": "6",
                                    "tp_raca_funcionario": "Não Informado"
                                },
                                {
                                    "(No column name)": "5",
                                    "tp_raca_funcionario": "Branca"
                                },
                                {
                                    "(No column name)": "1",
                                    "tp_raca_funcionario": "Negra"
                                }
                            ]
                        },
                        "text/html": "<table><tr><th>(No column name)</th><th>tp_raca_funcionario</th></tr><tr><td>8</td><td>Parda</td></tr><tr><td>6</td><td>Não Informado</td></tr><tr><td>5</td><td>Branca</td></tr><tr><td>1</td><td>Negra</td></tr></table>"
                    },
                    "metadata": {}
                }
            ],
            "execution_count": 114
        },
        {
            "cell_type": "markdown",
            "source": [
                "Totais:"
            ],
            "metadata": {
                "azdata_cell_guid": "e1351e17-1c28-4eb5-adfe-1e86a0242764"
            },
            "attachments": {}
        },
        {
            "cell_type": "code",
            "source": [
                "USE bi_rip_refinedZone\r\n",
                "GO\r\n",
                "\r\n",
                "WITH TEMPO AS (\r\n",
                "SELECT\r\n",
                "    *,\r\n",
                "    CASE \r\n",
                "        WHEN dt_demissao_funcionario = '' OR dt_demissao_funcionario IS NULL THEN DATEDIFF(YEAR, dt_admissao_funcionarios, GETDATE())\r\n",
                "        WHEN dt_demissao_funcionario <> NULL OR dt_demissao_funcionario <> '' THEN DATEDIFF(YEAR, dt_admissao_funcionarios, dt_demissao_funcionario)\r\n",
                "    END AS tempo_empresa\r\n",
                "FROM dpp.vw_dim_funcionarios\r\n",
                "WHERE\r\n",
                "    tp_sexo_funcionario = 'Feminino' AND\r\n",
                "    tp_situacao_folha <> 'Transferido' AND\r\n",
                "    (\r\n",
                "        (\r\n",
                "            dt_demissao_funcionario > DATEFROMPARTS(2020, 12, 31) AND\r\n",
                "            dt_demissao_funcionario < DATEFROMPARTS(2022, 01, 01)\r\n",
                "            OR dt_demissao_funcionario IS NULL\r\n",
                "        ) AND\r\n",
                "        dt_admissao_funcionarios < DATEFROMPARTS(2022, 01, 01)\r\n",
                "    )\r\n",
                "),\r\n",
                "\r\n",
                "FAIXA AS (\r\n",
                "    SELECT \r\n",
                "        *,\r\n",
                "        CASE\r\n",
                "            WHEN tempo_empresa < 1 THEN 'Menos de 1 ano'\r\n",
                "            WHEN tempo_empresa BETWEEN 1 AND 2 THEN '1-2'\r\n",
                "            WHEN tempo_empresa BETWEEN 3 AND 5 THEN '3-5'\r\n",
                "            WHEN tempo_empresa BETWEEN 6 AND 10 THEN '6-10'\r\n",
                "            WHEN tempo_empresa BETWEEN 11 AND 15 THEN '11-15'\r\n",
                "            WHEN tempo_empresa > 16 THEN '16+'\r\n",
                "        END as faixas\r\n",
                "    FROM TEMPO\r\n",
                ")\r\n",
                "\r\n",
                "SELECT COUNT(1), faixas FROM FAIXA\r\n",
                "GROUP BY faixas\r\n",
                "ORDER BY COUNT(1) DESC"
            ],
            "metadata": {
                "azdata_cell_guid": "8205d9c9-54de-4369-b15c-72234b176730",
                "language": "sql"
            },
            "outputs": [
                {
                    "output_type": "display_data",
                    "data": {
                        "text/html": "Commands completed successfully."
                    },
                    "metadata": {}
                },
                {
                    "output_type": "display_data",
                    "data": {
                        "text/html": "(6 rows affected)"
                    },
                    "metadata": {}
                },
                {
                    "output_type": "display_data",
                    "data": {
                        "text/html": "Total execution time: 00:00:00.253"
                    },
                    "metadata": {}
                },
                {
                    "output_type": "execute_result",
                    "metadata": {},
                    "execution_count": 127,
                    "data": {
                        "application/vnd.dataresource+json": {
                            "schema": {
                                "fields": [
                                    {
                                        "name": "(No column name)"
                                    },
                                    {
                                        "name": "faixas"
                                    }
                                ]
                            },
                            "data": [
                                {
                                    "(No column name)": "261",
                                    "faixas": "Menos de 1 ano"
                                },
                                {
                                    "(No column name)": "240",
                                    "faixas": "3-5"
                                },
                                {
                                    "(No column name)": "202",
                                    "faixas": "1-2"
                                },
                                {
                                    "(No column name)": "56",
                                    "faixas": "6-10"
                                },
                                {
                                    "(No column name)": "24",
                                    "faixas": "11-15"
                                },
                                {
                                    "(No column name)": "15",
                                    "faixas": "16+"
                                }
                            ]
                        },
                        "text/html": [
                            "<table>",
                            "<tr><th>(No column name)</th><th>faixas</th></tr>",
                            "<tr><td>261</td><td>Menos de 1 ano</td></tr>",
                            "<tr><td>240</td><td>3-5</td></tr>",
                            "<tr><td>202</td><td>1-2</td></tr>",
                            "<tr><td>56</td><td>6-10</td></tr>",
                            "<tr><td>24</td><td>11-15</td></tr>",
                            "<tr><td>15</td><td>16+</td></tr>",
                            "</table>"
                        ]
                    }
                }
            ],
            "execution_count": 127
        }
    ]
}